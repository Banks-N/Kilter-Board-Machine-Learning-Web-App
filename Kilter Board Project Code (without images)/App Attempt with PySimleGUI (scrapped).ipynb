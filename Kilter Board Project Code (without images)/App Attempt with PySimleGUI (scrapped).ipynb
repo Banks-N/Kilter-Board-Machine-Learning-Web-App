{
 "cells": [
  {
   "cell_type": "code",
   "execution_count": 11,
   "id": "90bac3e0",
   "metadata": {},
   "outputs": [],
   "source": [
    "# pip install psgdemos"
   ]
  },
  {
   "cell_type": "code",
   "execution_count": 1,
   "id": "2a0b818a",
   "metadata": {},
   "outputs": [],
   "source": [
    "import numpy as np\n",
    "import PySimpleGUI as sg\n",
    "from PIL import Image, ImageTk"
   ]
  },
  {
   "cell_type": "code",
   "execution_count": 2,
   "id": "0402c102",
   "metadata": {},
   "outputs": [],
   "source": [
    "def on_hold_grid(MAX_ROWS=38,MAX_COL=23):\n",
    "    \"\"\"Creates an array of the coordiantes of holds that exist on kilterboard app / are clickable\"\"\"\n",
    "    \n",
    "    main_grid = np.array([[(row,col) for row in range(0,MAX_ROWS,2)] for col in range(1,MAX_COL,2)]).reshape(-1,2)\n",
    "    foot_right_grid = np.array([[(x,y) for x in range(5,MAX_ROWS-1,4)]for y in range(2,MAX_COL,4)]).reshape(-1,2)\n",
    "    foot_left_grid = np.array([[(x,y) for x in range(7,MAX_ROWS-3,4)]for y in range(0,MAX_COL,4)]).reshape(-1,2)\n",
    "    bottom_foot_grid = np.array([[(37,y) for y in range(0,MAX_COL,2)]]).reshape(-1,2)\n",
    "    \n",
    "    on_holds = np.concatenate((main_grid,foot_right_grid,foot_left_grid,bottom_foot_grid),axis=0)\n",
    "    \n",
    "    return on_holds"
   ]
  },
  {
   "cell_type": "code",
   "execution_count": 3,
   "id": "8256168f",
   "metadata": {
    "scrolled": true
   },
   "outputs": [],
   "source": [
    "\n",
    "def Kilter():\n",
    "    sg.change_look_and_feel('Dark Blue')\n",
    "    MAX_ROWS = 38\n",
    "    MAX_COL = 23\n",
    "    \n",
    "    grid = [['-' for col in range(MAX_COL)] for row in range(MAX_ROWS)]\n",
    "    on_holds = on_hold_grid()\n",
    "    \n",
    "    sg.set_options(button_element_size=(12, 1),\n",
    "               element_padding=(0, 0),\n",
    "               auto_size_buttons=False,\n",
    "               border_width=0,\n",
    "               button_color=('grey90','grey30')\n",
    "               )\n",
    "    \n",
    "    # Top Layer \n",
    "    layout =   [\n",
    "               [sg.Text('Total :', text_color='white',  size=(10,0), key='Total', font='Default 20')],\n",
    "               [sg.Text('Hand :', text_color='cyan', size=(10,1), key='Hand', font='Default 20')],\n",
    "               [sg.Text('Foot :', text_color='orange', size=(10,1), key='Foot', font='Default 20')],\n",
    "               [sg.Text('Start :', text_color='green2', size=(10,1), key='Start', font='Default 20')],\n",
    "               [sg.Text('Finish :', text_color='magenta2', size=(10,1), key='Finish', font='Default 20')],\n",
    "               [sg.Column([[sg.Button('Reset')]], element_justification='right', expand_x=True)]]\n",
    "    # Grid of buttons\n",
    "    layout +=  [[sg.Button(str(''), disabled = True, button_color=('black','grey70'), size=(2, 1), pad=(0,0), border_width=0, key=(row,col)) for col in range(MAX_COL)] for row in range(MAX_ROWS)]\n",
    "    \n",
    "    layout += [[sg.Column([[sg.Button('Exit')]], element_justification='center', expand_x=True)]]\n",
    "    window = sg.Window('Kilterboard Lookup', layout).Finalize()\n",
    "    \n",
    "    \n",
    "    [window[(x,y)].update('*', disabled = False, button_color=('black','grey70')) for x,y in on_holds]\n",
    "    \n",
    "    hand_location = []\n",
    "    foot_location = []\n",
    "    start_location = []\n",
    "    finish_location = []\n",
    "\n",
    "    while True:         # The Event Loop\n",
    "        event, values = window.read()\n",
    "#         print(event)\n",
    "        if event in (None, 'Exit'):\n",
    "#             print(grid)\n",
    "            break\n",
    "            \n",
    "        if event in (None, 'Reset'):\n",
    "            grid = [['-' for col in range(MAX_COL)] for row in range(MAX_ROWS)]\n",
    "            [window[(x,y)].update('*', disabled = False, button_color=('black','grey70')) for x,y in on_holds]\n",
    "            hand_location = []\n",
    "            foot_location = []\n",
    "            start_location = []\n",
    "            finish_location = []\n",
    "            window['Total'].update(f\"Total : {len(hand_location)+len(foot_location)+len(start_location)+len(finish_location)}\")\n",
    "            window['Hand'].update(f\"Hand : {len(hand_location)}\")\n",
    "            window['Foot'].update(f\"Foot : {len(foot_location)}\")\n",
    "            window['Start'].update(f\"Start : {len(start_location)}\")\n",
    "            window['Finish'].update(f\"Finish : {len(finish_location)}\")\n",
    "            continue\n",
    "            \n",
    "        hand_length = len(hand_location)\n",
    "        foot_length = len(foot_location)\n",
    "        start_length = len(start_location)\n",
    "        finish_length = len(finish_location)\n",
    "        total_length = hand_length + foot_length + start_length + finish_length\n",
    "        \n",
    "        clicked_button = grid[event[0]][event[1]]\n",
    "        \n",
    "        if clicked_button == '-':\n",
    "            \n",
    "            if not [event[0],event[1]] in on_holds.tolist():\n",
    "                print(\"not a hold\")\n",
    "                continue\n",
    "            \n",
    "            if total_length >=35:\n",
    "                sg.popup('Max Hold Limit Reached!','Please remove or change existing holds', title = 'Hold Limit Reached', keep_on_top=True)\n",
    "                continue\n",
    "            else:\n",
    "                #Turn to hand\n",
    "                grid[event[0]][event[1]] = 'Hand'\n",
    "                window[event].update('Hand', button_color=('white','cyan'))\n",
    "                hand_location.append(event)\n",
    "            \n",
    "        elif clicked_button == 'Hand':\n",
    "            #Turn to foot\n",
    "            hand_location.remove(event)\n",
    "            grid[event[0]][event[1]] = 'Foot'\n",
    "            window[event].update('Foot', button_color=('white','orange'))\n",
    "            foot_location.append(event)\n",
    "            \n",
    "        elif clicked_button == 'Foot':\n",
    "            foot_location.remove(event)\n",
    "            if start_length >= 2:\n",
    "                if finish_length >=2:\n",
    "                    #Skip Start & Finish, turn to blank\n",
    "                    grid[event[0]][event[1]] = '-'\n",
    "                    window[event].update('*', button_color=('black','grey70'))\n",
    "                else: \n",
    "                    #Skip start, turn to finish\n",
    "                    grid[event[0]][event[1]] = 'Finish'\n",
    "                    window[event].update('Finish', button_color=('white','magenta2'))\n",
    "                    finish_location.append(event)\n",
    "            else:\n",
    "                #Turn to start\n",
    "                grid[event[0]][event[1]] = 'Start'\n",
    "                window[event].update('Start', button_color=('white','green2'))\n",
    "                start_location.append(event)\n",
    "            \n",
    "        elif clicked_button == 'Start':\n",
    "            start_location.remove(event)\n",
    "            if finish_length >=2:\n",
    "                    #Skip Finish, turn to blank\n",
    "                    grid[event[0]][event[1]] = '-'\n",
    "                    window[event].update('*', button_color=('black','grey70'))\n",
    "            else: \n",
    "                #Turn to finish\n",
    "                grid[event[0]][event[1]] = 'Finish'\n",
    "                window[event].update('Finish', button_color=('white','magenta2'))\n",
    "                finish_location.append(event)\n",
    "                    \n",
    "        elif clicked_button == 'Finish':\n",
    "            #Turn to blank\n",
    "            finish_location.remove(event)\n",
    "            grid[event[0]][event[1]] = '-'\n",
    "            window[event].update('*', button_color=('black','grey70'))\n",
    "            \n",
    "    \n",
    "#         print(grid)\n",
    "        \n",
    "        window['Total'].update(f\"Total : {len(hand_location)+len(foot_location)+len(start_location)+len(finish_location)}\")\n",
    "        window['Hand'].update(f\"Hand : {len(hand_location)}\")\n",
    "        window['Foot'].update(f\"Foot : {len(foot_location)}\")\n",
    "        window['Start'].update(f\"Start : {len(start_location)}\")\n",
    "        window['Finish'].update(f\"Finish : {len(finish_location)}\")\n",
    "\n",
    "    \n",
    "    window.close()\n",
    "\n"
   ]
  },
  {
   "cell_type": "code",
   "execution_count": 4,
   "id": "7337347f",
   "metadata": {},
   "outputs": [],
   "source": [
    "Kilter()"
   ]
  },
  {
   "cell_type": "code",
   "execution_count": 5,
   "id": "eea24aaf",
   "metadata": {},
   "outputs": [],
   "source": [
    "import json\n",
    "with open('hold_types.json', 'r') as f:\n",
    "    hold_type_dict = json.load(f)"
   ]
  },
  {
   "cell_type": "code",
   "execution_count": null,
   "id": "c3319200",
   "metadata": {},
   "outputs": [],
   "source": []
  },
  {
   "cell_type": "code",
   "execution_count": 71,
   "id": "3d144885",
   "metadata": {},
   "outputs": [],
   "source": [
    "class hold(object):\n",
    "    \n",
    "    def __init__(self, hold_number):\n",
    "        self.hold_number = hold_number\n",
    "        self.hold_type = hold_type_dict[str(hold_number)]\n",
    "\n",
    "    def set_hold(self, set_type): \n",
    "        self.set_type = set_type \n",
    "    \n",
    "    def get_image(self):\n",
    "        return f\"{self.hold_number}{self.set_type}.jpg\"\n",
    "    \n",
    "    def __repr__(self):\n",
    "        return f\"This is a {self.set_type} hold at index {self.hold_number}\"\n",
    "    \n",
    "    def __lt__(self,other):\n",
    "        return self.hold_number < other.hold_number"
   ]
  },
  {
   "cell_type": "code",
   "execution_count": null,
   "id": "5852430b",
   "metadata": {},
   "outputs": [],
   "source": [
    "class hand(hold):\n",
    "    \n",
    "    def init(self, fname, lname):\n",
    "        super().init(fname, lname)\\\n",
    "    \n",
    "    "
   ]
  },
  {
   "cell_type": "code",
   "execution_count": 72,
   "id": "36af5ba7",
   "metadata": {},
   "outputs": [
    {
     "data": {
      "text/plain": [
       "True"
      ]
     },
     "execution_count": 72,
     "metadata": {},
     "output_type": "execute_result"
    }
   ],
   "source": [
    "hold(0) < hold(1)"
   ]
  },
  {
   "cell_type": "code",
   "execution_count": 73,
   "id": "7a896eb6",
   "metadata": {},
   "outputs": [
    {
     "data": {
      "text/plain": [
       "0"
      ]
     },
     "execution_count": 73,
     "metadata": {},
     "output_type": "execute_result"
    }
   ],
   "source": [
    "my_hold = hold(0)\n",
    "my_hold.hold_number"
   ]
  },
  {
   "cell_type": "code",
   "execution_count": 74,
   "id": "9ca2af6e",
   "metadata": {},
   "outputs": [
    {
     "data": {
      "text/plain": [
       "['Jug']"
      ]
     },
     "execution_count": 74,
     "metadata": {},
     "output_type": "execute_result"
    }
   ],
   "source": [
    "my_hold.hold_type"
   ]
  },
  {
   "cell_type": "code",
   "execution_count": 75,
   "id": "afbf43d8",
   "metadata": {},
   "outputs": [
    {
     "data": {
      "text/plain": [
       "'finish'"
      ]
     },
     "execution_count": 75,
     "metadata": {},
     "output_type": "execute_result"
    }
   ],
   "source": [
    "my_hold.set_hold('finish')\n",
    "my_hold.set_type"
   ]
  },
  {
   "cell_type": "code",
   "execution_count": 76,
   "id": "d7c0c46e",
   "metadata": {},
   "outputs": [
    {
     "data": {
      "text/plain": [
       "'0finish.jpg'"
      ]
     },
     "execution_count": 76,
     "metadata": {},
     "output_type": "execute_result"
    }
   ],
   "source": [
    "my_hold.get_image()"
   ]
  },
  {
   "cell_type": "code",
   "execution_count": 77,
   "id": "13b88c09",
   "metadata": {},
   "outputs": [
    {
     "name": "stdout",
     "output_type": "stream",
     "text": [
      "This is a finish hold at index 0\n"
     ]
    }
   ],
   "source": [
    "print(my_hold)"
   ]
  },
  {
   "cell_type": "code",
   "execution_count": 78,
   "id": "ff2f6f8d",
   "metadata": {},
   "outputs": [],
   "source": [
    "my_hold.hold_number = \"This shouldn't be possible\""
   ]
  },
  {
   "cell_type": "code",
   "execution_count": 79,
   "id": "b120d749",
   "metadata": {},
   "outputs": [
    {
     "data": {
      "text/plain": [
       "\"This shouldn't be possible\""
      ]
     },
     "execution_count": 79,
     "metadata": {},
     "output_type": "execute_result"
    }
   ],
   "source": [
    "my_hold.hold_number"
   ]
  },
  {
   "cell_type": "code",
   "execution_count": 81,
   "id": "e4050aac",
   "metadata": {},
   "outputs": [],
   "source": [
    "my_hold.set_hold = lambda x : \"Nope\""
   ]
  },
  {
   "cell_type": "code",
   "execution_count": 82,
   "id": "caca6d92",
   "metadata": {},
   "outputs": [
    {
     "data": {
      "text/plain": [
       "'Nope'"
      ]
     },
     "execution_count": 82,
     "metadata": {},
     "output_type": "execute_result"
    }
   ],
   "source": [
    "my_hold.set_hold('test')"
   ]
  },
  {
   "cell_type": "code",
   "execution_count": null,
   "id": "4020807f",
   "metadata": {},
   "outputs": [],
   "source": []
  }
 ],
 "metadata": {
  "kernelspec": {
   "display_name": "Python 3 (ipykernel)",
   "language": "python",
   "name": "python3"
  },
  "language_info": {
   "codemirror_mode": {
    "name": "ipython",
    "version": 3
   },
   "file_extension": ".py",
   "mimetype": "text/x-python",
   "name": "python",
   "nbconvert_exporter": "python",
   "pygments_lexer": "ipython3",
   "version": "3.9.7"
  }
 },
 "nbformat": 4,
 "nbformat_minor": 5
}
