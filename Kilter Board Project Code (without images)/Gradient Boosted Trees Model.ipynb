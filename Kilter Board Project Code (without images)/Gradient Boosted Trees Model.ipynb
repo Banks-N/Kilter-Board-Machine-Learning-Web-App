{
 "cells": [
  {
   "cell_type": "code",
   "execution_count": 305,
   "metadata": {},
   "outputs": [],
   "source": [
    "# https://www.youtube.com/watch?v=Aa-F6zqLmig"
   ]
  },
  {
   "cell_type": "code",
   "execution_count": 306,
   "metadata": {},
   "outputs": [],
   "source": [
    "# pip install xgboost"
   ]
  },
  {
   "cell_type": "code",
   "execution_count": 307,
   "metadata": {},
   "outputs": [],
   "source": [
    "# Model\n",
    "from xgboost import XGBRegressor \n",
    "\n",
    "import numpy as np \n",
    "import pandas as pd \n",
    "from sklearn.model_selection import train_test_split\n",
    "from sklearn.model_selection import RandomizedSearchCV\n",
    "from sklearn.model_selection import GridSearchCV\n",
    "\n",
    "# Errors\n",
    "from sklearn.metrics import mean_squared_error\n",
    "from sklearn.metrics import explained_variance_score\n",
    "from sklearn.metrics import mean_absolute_error"
   ]
  },
  {
   "cell_type": "code",
   "execution_count": 308,
   "metadata": {},
   "outputs": [],
   "source": [
    "def calculate_error(answers,predictions):\n",
    "    \"\"\"This function returns the Mean squared error, explained variance score, and the average\"\"\"\n",
    "    print(f\"MSE: {mean_squared_error(answers, predictions)}\")\n",
    "    print(f\"EVS: {explained_variance_score(answers, predictions)}\")\n",
    "#     print(\"Test Data\")\n",
    "    print(f\"MAE: {mean_absolute_error(answers, predictions)}\")"
   ]
  },
  {
   "cell_type": "code",
   "execution_count": 309,
   "metadata": {},
   "outputs": [],
   "source": [
    "def clean_data(data):\n",
    "    \"\"\"This function removes all the unnecessary columns in the data: name, filepath, campus, index. \n",
    "    Also splits the data into X and y, with y being the grade, and X being everything else.\"\"\"\n",
    "    \n",
    "    data = data.loc[:, data.columns != \"Unnamed: 0\"]\n",
    "    data = data.loc[:, data.columns != \"name\"]\n",
    "    data = data.loc[:, data.columns != \"filepath\"]\n",
    "    data = data.loc[:, data.columns != \"campus\"]\n",
    "    y = data[\"grade\"]\n",
    "    X = data.loc[:, data.columns != \"grade\"]\n",
    "    \n",
    "    return X,y"
   ]
  },
  {
   "cell_type": "code",
   "execution_count": 310,
   "metadata": {
    "execution": {
     "iopub.execute_input": "2022-01-26T19:27:41.906340Z",
     "iopub.status.busy": "2022-01-26T19:27:41.906069Z",
     "iopub.status.idle": "2022-01-26T19:27:41.952095Z",
     "shell.execute_reply": "2022-01-26T19:27:41.951473Z",
     "shell.execute_reply.started": "2022-01-26T19:27:41.906308Z"
    },
    "scrolled": false
   },
   "outputs": [
    {
     "data": {
      "text/html": [
       "<div>\n",
       "<style scoped>\n",
       "    .dataframe tbody tr th:only-of-type {\n",
       "        vertical-align: middle;\n",
       "    }\n",
       "\n",
       "    .dataframe tbody tr th {\n",
       "        vertical-align: top;\n",
       "    }\n",
       "\n",
       "    .dataframe thead th {\n",
       "        text-align: right;\n",
       "    }\n",
       "</style>\n",
       "<table border=\"1\" class=\"dataframe\">\n",
       "  <thead>\n",
       "    <tr style=\"text-align: right;\">\n",
       "      <th></th>\n",
       "      <th>Unnamed: 0</th>\n",
       "      <th>Hold 0</th>\n",
       "      <th>Hold 1</th>\n",
       "      <th>Hold 2</th>\n",
       "      <th>Hold 3</th>\n",
       "      <th>Hold 4</th>\n",
       "      <th>Hold 5</th>\n",
       "      <th>Hold 6</th>\n",
       "      <th>Hold 7</th>\n",
       "      <th>Hold 8</th>\n",
       "      <th>...</th>\n",
       "      <th>Quadrant 10</th>\n",
       "      <th>Quadrant 4</th>\n",
       "      <th>Quadrant 13</th>\n",
       "      <th>Quadrant 0</th>\n",
       "      <th>Quadrant 11</th>\n",
       "      <th>Quadrant 12</th>\n",
       "      <th>Quadrant 2</th>\n",
       "      <th>total_Sloper</th>\n",
       "      <th>Quadrant 14</th>\n",
       "      <th>Hold 310</th>\n",
       "    </tr>\n",
       "  </thead>\n",
       "  <tbody>\n",
       "    <tr>\n",
       "      <th>850</th>\n",
       "      <td>850</td>\n",
       "      <td>0</td>\n",
       "      <td>0</td>\n",
       "      <td>0</td>\n",
       "      <td>0</td>\n",
       "      <td>0</td>\n",
       "      <td>0</td>\n",
       "      <td>0</td>\n",
       "      <td>0</td>\n",
       "      <td>0</td>\n",
       "      <td>...</td>\n",
       "      <td>0.0</td>\n",
       "      <td>0.0</td>\n",
       "      <td>0.0</td>\n",
       "      <td>0.0</td>\n",
       "      <td>1.0</td>\n",
       "      <td>2.0</td>\n",
       "      <td>0.0</td>\n",
       "      <td>0.0</td>\n",
       "      <td>0.0</td>\n",
       "      <td>0.0</td>\n",
       "    </tr>\n",
       "    <tr>\n",
       "      <th>851</th>\n",
       "      <td>851</td>\n",
       "      <td>0</td>\n",
       "      <td>0</td>\n",
       "      <td>4</td>\n",
       "      <td>0</td>\n",
       "      <td>0</td>\n",
       "      <td>0</td>\n",
       "      <td>0</td>\n",
       "      <td>0</td>\n",
       "      <td>0</td>\n",
       "      <td>...</td>\n",
       "      <td>1.0</td>\n",
       "      <td>0.0</td>\n",
       "      <td>2.0</td>\n",
       "      <td>1.0</td>\n",
       "      <td>1.0</td>\n",
       "      <td>0.0</td>\n",
       "      <td>0.0</td>\n",
       "      <td>1.0</td>\n",
       "      <td>0.0</td>\n",
       "      <td>0.0</td>\n",
       "    </tr>\n",
       "    <tr>\n",
       "      <th>852</th>\n",
       "      <td>852</td>\n",
       "      <td>0</td>\n",
       "      <td>0</td>\n",
       "      <td>0</td>\n",
       "      <td>4</td>\n",
       "      <td>0</td>\n",
       "      <td>0</td>\n",
       "      <td>0</td>\n",
       "      <td>0</td>\n",
       "      <td>0</td>\n",
       "      <td>...</td>\n",
       "      <td>0.0</td>\n",
       "      <td>0.0</td>\n",
       "      <td>2.0</td>\n",
       "      <td>3.0</td>\n",
       "      <td>1.0</td>\n",
       "      <td>1.0</td>\n",
       "      <td>0.0</td>\n",
       "      <td>0.0</td>\n",
       "      <td>0.0</td>\n",
       "      <td>0.0</td>\n",
       "    </tr>\n",
       "    <tr>\n",
       "      <th>853</th>\n",
       "      <td>853</td>\n",
       "      <td>0</td>\n",
       "      <td>0</td>\n",
       "      <td>0</td>\n",
       "      <td>0</td>\n",
       "      <td>0</td>\n",
       "      <td>0</td>\n",
       "      <td>0</td>\n",
       "      <td>0</td>\n",
       "      <td>4</td>\n",
       "      <td>...</td>\n",
       "      <td>2.0</td>\n",
       "      <td>0.0</td>\n",
       "      <td>1.0</td>\n",
       "      <td>0.0</td>\n",
       "      <td>0.0</td>\n",
       "      <td>1.0</td>\n",
       "      <td>2.0</td>\n",
       "      <td>2.0</td>\n",
       "      <td>1.0</td>\n",
       "      <td>0.0</td>\n",
       "    </tr>\n",
       "    <tr>\n",
       "      <th>854</th>\n",
       "      <td>854</td>\n",
       "      <td>0</td>\n",
       "      <td>0</td>\n",
       "      <td>0</td>\n",
       "      <td>0</td>\n",
       "      <td>0</td>\n",
       "      <td>0</td>\n",
       "      <td>0</td>\n",
       "      <td>0</td>\n",
       "      <td>0</td>\n",
       "      <td>...</td>\n",
       "      <td>3.0</td>\n",
       "      <td>0.0</td>\n",
       "      <td>1.0</td>\n",
       "      <td>0.0</td>\n",
       "      <td>0.0</td>\n",
       "      <td>2.0</td>\n",
       "      <td>2.0</td>\n",
       "      <td>0.0</td>\n",
       "      <td>0.0</td>\n",
       "      <td>0.0</td>\n",
       "    </tr>\n",
       "  </tbody>\n",
       "</table>\n",
       "<p>5 rows × 377 columns</p>\n",
       "</div>"
      ],
      "text/plain": [
       "     Unnamed: 0  Hold 0  Hold 1  Hold 2  Hold 3  Hold 4  Hold 5  Hold 6  \\\n",
       "850         850       0       0       0       0       0       0       0   \n",
       "851         851       0       0       4       0       0       0       0   \n",
       "852         852       0       0       0       4       0       0       0   \n",
       "853         853       0       0       0       0       0       0       0   \n",
       "854         854       0       0       0       0       0       0       0   \n",
       "\n",
       "     Hold 7  Hold 8  ...  Quadrant 10  Quadrant 4  Quadrant 13  Quadrant 0  \\\n",
       "850       0       0  ...          0.0         0.0          0.0         0.0   \n",
       "851       0       0  ...          1.0         0.0          2.0         1.0   \n",
       "852       0       0  ...          0.0         0.0          2.0         3.0   \n",
       "853       0       4  ...          2.0         0.0          1.0         0.0   \n",
       "854       0       0  ...          3.0         0.0          1.0         0.0   \n",
       "\n",
       "     Quadrant 11  Quadrant 12  Quadrant 2  total_Sloper  Quadrant 14  Hold 310  \n",
       "850          1.0          2.0         0.0           0.0          0.0       0.0  \n",
       "851          1.0          0.0         0.0           1.0          0.0       0.0  \n",
       "852          1.0          1.0         0.0           0.0          0.0       0.0  \n",
       "853          0.0          1.0         2.0           2.0          1.0       0.0  \n",
       "854          0.0          2.0         2.0           0.0          0.0       0.0  \n",
       "\n",
       "[5 rows x 377 columns]"
      ]
     },
     "execution_count": 310,
     "metadata": {},
     "output_type": "execute_result"
    }
   ],
   "source": [
    "train_data = pd.read_csv(\"data11.csv\")\n",
    "train_data.tail()"
   ]
  },
  {
   "cell_type": "code",
   "execution_count": 311,
   "metadata": {},
   "outputs": [],
   "source": [
    "X,y = clean_data(train_data)"
   ]
  },
  {
   "cell_type": "code",
   "execution_count": 312,
   "metadata": {},
   "outputs": [],
   "source": [
    "# Split data\n",
    "X_train, X_validation, y_train, y_validation = train_test_split(X, y, test_size=0.33, random_state=42)"
   ]
  },
  {
   "cell_type": "code",
   "execution_count": 313,
   "metadata": {},
   "outputs": [
    {
     "data": {
      "text/html": [
       "<div>\n",
       "<style scoped>\n",
       "    .dataframe tbody tr th:only-of-type {\n",
       "        vertical-align: middle;\n",
       "    }\n",
       "\n",
       "    .dataframe tbody tr th {\n",
       "        vertical-align: top;\n",
       "    }\n",
       "\n",
       "    .dataframe thead th {\n",
       "        text-align: right;\n",
       "    }\n",
       "</style>\n",
       "<table border=\"1\" class=\"dataframe\">\n",
       "  <thead>\n",
       "    <tr style=\"text-align: right;\">\n",
       "      <th></th>\n",
       "      <th>Unnamed: 0</th>\n",
       "      <th>Hold 0</th>\n",
       "      <th>Hold 1</th>\n",
       "      <th>Hold 2</th>\n",
       "      <th>Hold 3</th>\n",
       "      <th>Hold 4</th>\n",
       "      <th>Hold 5</th>\n",
       "      <th>Hold 6</th>\n",
       "      <th>Hold 7</th>\n",
       "      <th>Hold 8</th>\n",
       "      <th>...</th>\n",
       "      <th>total_Crimp</th>\n",
       "      <th>total_Sidepull</th>\n",
       "      <th>total_Semi-Jug</th>\n",
       "      <th>Quadrant 5</th>\n",
       "      <th>Quadrant 8</th>\n",
       "      <th>Quadrant 11</th>\n",
       "      <th>Quadrant 2</th>\n",
       "      <th>total_Sloper</th>\n",
       "      <th>Quadrant 14</th>\n",
       "      <th>Hold 310</th>\n",
       "    </tr>\n",
       "  </thead>\n",
       "  <tbody>\n",
       "    <tr>\n",
       "      <th>145</th>\n",
       "      <td>145</td>\n",
       "      <td>0</td>\n",
       "      <td>0</td>\n",
       "      <td>0</td>\n",
       "      <td>0</td>\n",
       "      <td>0</td>\n",
       "      <td>0</td>\n",
       "      <td>4</td>\n",
       "      <td>0</td>\n",
       "      <td>0</td>\n",
       "      <td>...</td>\n",
       "      <td>1.0</td>\n",
       "      <td>3.0</td>\n",
       "      <td>7.0</td>\n",
       "      <td>1.0</td>\n",
       "      <td>2.0</td>\n",
       "      <td>0.0</td>\n",
       "      <td>0.0</td>\n",
       "      <td>0.0</td>\n",
       "      <td>0.0</td>\n",
       "      <td>0.0</td>\n",
       "    </tr>\n",
       "    <tr>\n",
       "      <th>146</th>\n",
       "      <td>146</td>\n",
       "      <td>0</td>\n",
       "      <td>0</td>\n",
       "      <td>0</td>\n",
       "      <td>0</td>\n",
       "      <td>0</td>\n",
       "      <td>0</td>\n",
       "      <td>0</td>\n",
       "      <td>0</td>\n",
       "      <td>0</td>\n",
       "      <td>...</td>\n",
       "      <td>2.0</td>\n",
       "      <td>0.0</td>\n",
       "      <td>4.0</td>\n",
       "      <td>0.0</td>\n",
       "      <td>1.0</td>\n",
       "      <td>0.0</td>\n",
       "      <td>0.0</td>\n",
       "      <td>0.0</td>\n",
       "      <td>0.0</td>\n",
       "      <td>0.0</td>\n",
       "    </tr>\n",
       "    <tr>\n",
       "      <th>147</th>\n",
       "      <td>147</td>\n",
       "      <td>0</td>\n",
       "      <td>0</td>\n",
       "      <td>0</td>\n",
       "      <td>0</td>\n",
       "      <td>0</td>\n",
       "      <td>0</td>\n",
       "      <td>0</td>\n",
       "      <td>4</td>\n",
       "      <td>0</td>\n",
       "      <td>...</td>\n",
       "      <td>5.0</td>\n",
       "      <td>2.0</td>\n",
       "      <td>3.0</td>\n",
       "      <td>2.0</td>\n",
       "      <td>2.0</td>\n",
       "      <td>0.0</td>\n",
       "      <td>3.0</td>\n",
       "      <td>1.0</td>\n",
       "      <td>0.0</td>\n",
       "      <td>0.0</td>\n",
       "    </tr>\n",
       "    <tr>\n",
       "      <th>148</th>\n",
       "      <td>148</td>\n",
       "      <td>0</td>\n",
       "      <td>0</td>\n",
       "      <td>4</td>\n",
       "      <td>0</td>\n",
       "      <td>0</td>\n",
       "      <td>0</td>\n",
       "      <td>0</td>\n",
       "      <td>0</td>\n",
       "      <td>0</td>\n",
       "      <td>...</td>\n",
       "      <td>0.0</td>\n",
       "      <td>2.0</td>\n",
       "      <td>0.0</td>\n",
       "      <td>0.0</td>\n",
       "      <td>0.0</td>\n",
       "      <td>0.0</td>\n",
       "      <td>0.0</td>\n",
       "      <td>0.0</td>\n",
       "      <td>0.0</td>\n",
       "      <td>0.0</td>\n",
       "    </tr>\n",
       "    <tr>\n",
       "      <th>149</th>\n",
       "      <td>149</td>\n",
       "      <td>0</td>\n",
       "      <td>0</td>\n",
       "      <td>0</td>\n",
       "      <td>0</td>\n",
       "      <td>0</td>\n",
       "      <td>4</td>\n",
       "      <td>0</td>\n",
       "      <td>4</td>\n",
       "      <td>0</td>\n",
       "      <td>...</td>\n",
       "      <td>3.0</td>\n",
       "      <td>1.0</td>\n",
       "      <td>2.0</td>\n",
       "      <td>0.0</td>\n",
       "      <td>0.0</td>\n",
       "      <td>0.0</td>\n",
       "      <td>1.0</td>\n",
       "      <td>0.0</td>\n",
       "      <td>0.0</td>\n",
       "      <td>0.0</td>\n",
       "    </tr>\n",
       "  </tbody>\n",
       "</table>\n",
       "<p>5 rows × 377 columns</p>\n",
       "</div>"
      ],
      "text/plain": [
       "     Unnamed: 0  Hold 0  Hold 1  Hold 2  Hold 3  Hold 4  Hold 5  Hold 6  \\\n",
       "145         145       0       0       0       0       0       0       4   \n",
       "146         146       0       0       0       0       0       0       0   \n",
       "147         147       0       0       0       0       0       0       0   \n",
       "148         148       0       0       4       0       0       0       0   \n",
       "149         149       0       0       0       0       0       4       0   \n",
       "\n",
       "     Hold 7  Hold 8  ...  total_Crimp  total_Sidepull  total_Semi-Jug  \\\n",
       "145       0       0  ...          1.0             3.0             7.0   \n",
       "146       0       0  ...          2.0             0.0             4.0   \n",
       "147       4       0  ...          5.0             2.0             3.0   \n",
       "148       0       0  ...          0.0             2.0             0.0   \n",
       "149       4       0  ...          3.0             1.0             2.0   \n",
       "\n",
       "     Quadrant 5  Quadrant 8  Quadrant 11  Quadrant 2  total_Sloper  \\\n",
       "145         1.0         2.0          0.0         0.0           0.0   \n",
       "146         0.0         1.0          0.0         0.0           0.0   \n",
       "147         2.0         2.0          0.0         3.0           1.0   \n",
       "148         0.0         0.0          0.0         0.0           0.0   \n",
       "149         0.0         0.0          0.0         1.0           0.0   \n",
       "\n",
       "     Quadrant 14  Hold 310  \n",
       "145          0.0       0.0  \n",
       "146          0.0       0.0  \n",
       "147          0.0       0.0  \n",
       "148          0.0       0.0  \n",
       "149          0.0       0.0  \n",
       "\n",
       "[5 rows x 377 columns]"
      ]
     },
     "execution_count": 313,
     "metadata": {},
     "output_type": "execute_result"
    }
   ],
   "source": [
    "split_data = pd.read_csv(\"data9_split.csv\")\n",
    "split_data.tail()"
   ]
  },
  {
   "cell_type": "code",
   "execution_count": 314,
   "metadata": {},
   "outputs": [],
   "source": [
    "split_X, split_y = clean_data(split_data)"
   ]
  },
  {
   "cell_type": "code",
   "execution_count": 315,
   "metadata": {
    "scrolled": true
   },
   "outputs": [
    {
     "data": {
      "text/plain": [
       "(150, 372)"
      ]
     },
     "execution_count": 315,
     "metadata": {},
     "output_type": "execute_result"
    }
   ],
   "source": [
    "split_X.shape"
   ]
  },
  {
   "cell_type": "code",
   "execution_count": 316,
   "metadata": {},
   "outputs": [
    {
     "data": {
      "text/plain": [
       "(150,)"
      ]
     },
     "execution_count": 316,
     "metadata": {},
     "output_type": "execute_result"
    }
   ],
   "source": [
    "split_y.shape"
   ]
  },
  {
   "cell_type": "code",
   "execution_count": 317,
   "metadata": {},
   "outputs": [],
   "source": [
    "# params = {'subsample': [0.45,0.50,0.55], \n",
    "#           'n_estimators': [750,1000,1500], \n",
    "#           'max_depth': [2,3,4], \n",
    "#           'learning_rate': [0.005,0.01,0.025], \n",
    "#           'colsample_bytree': [0.45,0.5,0.55], \n",
    "#           'colsample_bylevel': [0.85,0.9,0.95]}\n",
    "\n",
    "# xgbr = XGBRegressor(seed = 20)\n",
    "# clf = GridSearchCV(estimator=xgbr, \n",
    "#                    param_grid=params,\n",
    "#                    scoring='neg_mean_squared_error', \n",
    "#                    verbose=1)\n",
    "# clf.fit(X_train, y_train)\n",
    "# print(\"Best parameters:\", clf.best_params_)\n",
    "# print(\"Lowest RMSE: \", (-clf.best_score_)**(1/2.0))"
   ]
  },
  {
   "cell_type": "code",
   "execution_count": 318,
   "metadata": {},
   "outputs": [],
   "source": [
    "# params = { 'max_depth': [2,4,6,8],\n",
    "#            'learning_rate': [0.01, 0.1, 0.2, 0.3],\n",
    "#            'subsample': np.arange(0.4, 1.0, 0.2),\n",
    "#            'colsample_bytree': np.arange(0.4, 1.0, 0.2),\n",
    "#            'colsample_bylevel': np.arange(0.4, 1.0, 0.2),\n",
    "#            'n_estimators': [50,100,250,500,1000]}\n",
    "# xgbr = XGBRegressor(seed = 20)\n",
    "# clf = RandomizedSearchCV(estimator=xgbr,\n",
    "#                          param_distributions=params,\n",
    "#                          scoring='neg_mean_squared_error',\n",
    "# #                          scoring = 'neg_mean_absolute_error',\n",
    "#                          n_iter=100,\n",
    "#                          verbose=1)\n",
    "# clf.fit(X_train, y_train)\n",
    "# print(\"Best parameters:\", clf.best_params_)\n",
    "# print(\"Lowest RMSE: \", (-clf.best_score_)**(1/2.0))"
   ]
  },
  {
   "cell_type": "code",
   "execution_count": 319,
   "metadata": {},
   "outputs": [],
   "source": [
    "# # New random search 25 (1.28097 RMSE) (72.9% EVS) (1.53 MSE) (1.9770 MSE actual)\n",
    "# params = {\n",
    "#     'subsample': [0.8], \n",
    "#     'n_estimators': [1000], \n",
    "#     'max_depth': [6], \n",
    "#     'learning_rate': [0.01], \n",
    "#     'colsample_bytree': [0.6], \n",
    "#     'colsample_bylevel': [0.4]\n",
    "# }\n",
    "\n",
    "# New random search 100 (1.29031 RMSE) (72.5% EVS) (1.49 MSE)\n",
    "# params = {\n",
    "#     'subsample': [0.6],\n",
    "#      'n_estimators': [200],\n",
    "#      'max_depth': [5],\n",
    "#      'learning_rate': [0.1],\n",
    "#      'colsample_bytree': [0.8],\n",
    "#      'colsample_bylevel': [0.4]\n",
    "# }\n",
    "\n",
    "# .98 MAE\n",
    "\n",
    "# # Adjusted Random search (73.6% EVS) (1.55 MSE)\n",
    "# params = {\n",
    "#     'subsample': [0.6],\n",
    "#      'n_estimators': [200],\n",
    "#      'max_depth': [5],\n",
    "#      'learning_rate': [0.1],\n",
    "#      'colsample_bytree': [0.8],\n",
    "#      'colsample_bylevel': [0.4]\n",
    "# }\n",
    " \n",
    "# # Reduce overfit V1\n",
    "# params = {\n",
    "#     'subsample': [0.8],\n",
    "#      'n_estimators': [10],\n",
    "#      'max_depth': [2],\n",
    "#      'learning_rate': [0.3],\n",
    "#      'colsample_bytree': [0.4],\n",
    "#      'colsample_bylevel': [0.8]\n",
    "# }\n",
    "\n",
    "# # Reduce overfit V2\n",
    "# params = {\n",
    "#     'subsample': [0.6],\n",
    "#      'n_estimators': [10],\n",
    "#      'max_depth': [3],\n",
    "#      'learning_rate': [0.3],\n",
    "#      'colsample_bytree': [0.4],\n",
    "#      'colsample_bylevel': [0.8]\n",
    "# }\n",
    "\n",
    "# # Reduce overfit V2\n",
    "# params = {\n",
    "#     'subsample': [0.8],\n",
    "#      'n_estimators': [10],\n",
    "#      'max_depth': [2],\n",
    "#      'learning_rate': [0.4],\n",
    "#      'colsample_bytree': [0.8],\n",
    "#      'colsample_bylevel': [0.2]\n",
    "# }\n",
    "\n",
    "# params = {\n",
    "#     'subsample': [0.8],\n",
    "#      'n_estimators': [10],\n",
    "#      'max_depth': [2],\n",
    "#      'learning_rate': [0.4],\n",
    "#      'colsample_bytree': [0.8],\n",
    "#      'colsample_bylevel': [0.2]\n",
    "# }\n",
    "\n",
    "\n",
    "# # Random Search 25 iter\n",
    "params = {'subsample': [0.5], \n",
    "          'n_estimators': [1000], \n",
    "          'max_depth': [3], \n",
    "          'learning_rate': [0.01], \n",
    "          'colsample_bytree': [0.5], \n",
    "          'colsample_bylevel': [0.9]}\n",
    "\n",
    "# # random Search 100 iter\n",
    "# params = {'subsample': [0.5], \n",
    "#           'n_estimators': [1000], \n",
    "#           'max_depth': [3], \n",
    "#           'learning_rate': [0.01], \n",
    "#           'colsample_bytree': [0.5], \n",
    "#           'colsample_bylevel': [0.7]}\n",
    "\n",
    "# # Specific Grid Search\n",
    "# params = {'colsample_bylevel': [0.95], \n",
    "#           'colsample_bytree': [0.55], \n",
    "#           'learning_rate': [0.01], \n",
    "#           'max_depth': [2], \n",
    "#           'n_estimators': [1000], \n",
    "#           'subsample': [0.45]}"
   ]
  },
  {
   "cell_type": "code",
   "execution_count": 333,
   "metadata": {},
   "outputs": [],
   "source": [
    "xgbr = XGBRegressor(seed = 20)\n",
    "model = xgbr\n",
    "# model = RandomizedSearchCV(estimator=xgbr,\n",
    "#                          param_distributions=params,\n",
    "#                          scoring='neg_mean_squared_error',\n",
    "# #                         scoring='neg_mean_absolute_error',\n",
    "#                          n_iter=1,\n",
    "#                          verbose=1)"
   ]
  },
  {
   "cell_type": "code",
   "execution_count": 334,
   "metadata": {
    "scrolled": true
   },
   "outputs": [
    {
     "data": {
      "text/plain": [
       "XGBRegressor(base_score=0.5, booster='gbtree', colsample_bylevel=1,\n",
       "             colsample_bynode=1, colsample_bytree=1, enable_categorical=False,\n",
       "             gamma=0, gpu_id=-1, importance_type=None,\n",
       "             interaction_constraints='', learning_rate=0.300000012,\n",
       "             max_delta_step=0, max_depth=6, min_child_weight=1, missing=nan,\n",
       "             monotone_constraints='()', n_estimators=100, n_jobs=12,\n",
       "             num_parallel_tree=1, predictor='auto', random_state=20,\n",
       "             reg_alpha=0, reg_lambda=1, scale_pos_weight=1, seed=20,\n",
       "             subsample=1, tree_method='exact', validate_parameters=1,\n",
       "             verbosity=None)"
      ]
     },
     "execution_count": 334,
     "metadata": {},
     "output_type": "execute_result"
    }
   ],
   "source": [
    "model.fit(X_train,y_train)"
   ]
  },
  {
   "cell_type": "code",
   "execution_count": 335,
   "metadata": {
    "scrolled": true
   },
   "outputs": [
    {
     "name": "stdout",
     "output_type": "stream",
     "text": [
      "MSE: 0.0028235004868544075\n",
      "EVS: 0.9994329766067042\n",
      "MAE: 0.03780070478031477\n"
     ]
    }
   ],
   "source": [
    "calculate_error(y_train.values,model.predict(X_train))"
   ]
  },
  {
   "cell_type": "code",
   "execution_count": 336,
   "metadata": {
    "scrolled": true
   },
   "outputs": [
    {
     "name": "stdout",
     "output_type": "stream",
     "text": [
      "MSE: 1.8678805941253231\n",
      "EVS: 0.6698596218030134\n",
      "MAE: 1.0731836382707731\n"
     ]
    }
   ],
   "source": [
    "calculate_error(y_validation.values,model.predict(X_validation))"
   ]
  },
  {
   "cell_type": "code",
   "execution_count": 337,
   "metadata": {},
   "outputs": [
    {
     "name": "stdout",
     "output_type": "stream",
     "text": [
      "MSE: 2.5735013544951584\n",
      "EVS: 0.5418474738837443\n",
      "MAE: 1.2480402543147404\n"
     ]
    }
   ],
   "source": [
    "calculate_error(split_y.values,model.predict(split_X))"
   ]
  },
  {
   "cell_type": "code",
   "execution_count": 325,
   "metadata": {},
   "outputs": [],
   "source": [
    "# Best parameters: {'subsample': 0.6000000000000001, 'n_estimators': 250, 'max_depth': 4, 'learning_rate': 0.1, 'colsample_bytree': 0.6000000000000001, 'colsample_bylevel': 0.4}"
   ]
  },
  {
   "cell_type": "code",
   "execution_count": 326,
   "metadata": {
    "scrolled": true
   },
   "outputs": [],
   "source": [
    "# errors = model.predict(X_validation)-y_validation.values"
   ]
  },
  {
   "cell_type": "code",
   "execution_count": 327,
   "metadata": {
    "scrolled": true
   },
   "outputs": [],
   "source": [
    "# temp_df = X_validation.copy()"
   ]
  },
  {
   "cell_type": "code",
   "execution_count": 328,
   "metadata": {},
   "outputs": [],
   "source": [
    "# all_data = pd.read_csv(\"data5.csv\")"
   ]
  },
  {
   "cell_type": "code",
   "execution_count": 329,
   "metadata": {},
   "outputs": [],
   "source": [
    "# temp_df['prediction'] = model.predict(X_validation)\n",
    "# temp_df['error'] = errors\n",
    "# temp_df = temp_df.join(all_data['filepath'])"
   ]
  },
  {
   "cell_type": "code",
   "execution_count": 330,
   "metadata": {},
   "outputs": [],
   "source": [
    "# def make_clickable(val):\n",
    "#     # target _blank to open new window\n",
    "#     return '<a target=\"_blank\" href=\"{}\">{}</a>'.format(val, val)"
   ]
  },
  {
   "cell_type": "code",
   "execution_count": 331,
   "metadata": {},
   "outputs": [],
   "source": [
    "# temp_df.sort_values('error').style.format({'filepath': make_clickable})"
   ]
  },
  {
   "cell_type": "code",
   "execution_count": null,
   "metadata": {},
   "outputs": [],
   "source": []
  },
  {
   "cell_type": "code",
   "execution_count": 332,
   "metadata": {},
   "outputs": [],
   "source": [
    "# data = pd.DataFrame(columns=[f\"Hold {item}\" for item in range(0, 310)])"
   ]
  }
 ],
 "metadata": {
  "kernelspec": {
   "display_name": "Python 3 (ipykernel)",
   "language": "python",
   "name": "python3"
  },
  "language_info": {
   "codemirror_mode": {
    "name": "ipython",
    "version": 3
   },
   "file_extension": ".py",
   "mimetype": "text/x-python",
   "name": "python",
   "nbconvert_exporter": "python",
   "pygments_lexer": "ipython3",
   "version": "3.9.7"
  }
 },
 "nbformat": 4,
 "nbformat_minor": 4
}
