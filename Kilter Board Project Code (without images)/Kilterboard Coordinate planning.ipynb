{
 "cells": [
  {
   "cell_type": "code",
   "execution_count": 30,
   "id": "5d22e275",
   "metadata": {},
   "outputs": [],
   "source": [
    "import numpy as np\n",
    "import cv2\n",
    "\n",
    "#Todo:\n",
    "\n",
    "#find grid for feet holds (two grids for the feet)\n",
    "#find thresholds for each type"
   ]
  },
  {
   "cell_type": "code",
   "execution_count": 31,
   "id": "edc38b90",
   "metadata": {},
   "outputs": [],
   "source": [
    "hand_x = [54,114,173,233,293,352,412,471,530,590,650,]\n",
    "hand_y = [176,235,295,354,414,473,533,592,652,711,771,831,890,950,1009,1069,1128,1188,1247]\n",
    "\n",
    "#need foot1 grid, foot 2 grid, bottom foot row coordinates"
   ]
  },
  {
   "cell_type": "code",
   "execution_count": 32,
   "id": "6a359a5a",
   "metadata": {},
   "outputs": [],
   "source": [
    "img = cv2.resize(cv2.imread('first.png'), (0, 0), fx=1, fy=1)\n",
    "hand = cv2.resize(cv2.imread('hand.png'), (0, 0), fx=1, fy=1)\n",
    "foot = cv2.resize(cv2.imread('foot.png'), (0, 0), fx=1, fy=1)\n",
    "start = cv2.resize(cv2.imread('start.png'), (0, 0), fx=1, fy=1)\n",
    "finish = cv2.resize(cv2.imread('finish.png'), (0, 0), fx=1, fy=1)"
   ]
  },
  {
   "cell_type": "code",
   "execution_count": 33,
   "id": "9f5f8fd1",
   "metadata": {},
   "outputs": [],
   "source": [
    "# zoom = 1\n",
    "# img = cv2.resize(img, (0, 0), fx=zoom, fy=zoom)\n",
    "# cv2.imshow('img', img)\n",
    "# cv2.waitKey()\n",
    "# cv2.destroyAllWindows()"
   ]
  },
  {
   "cell_type": "code",
   "execution_count": 34,
   "id": "71372998",
   "metadata": {},
   "outputs": [],
   "source": [
    "grid = np.meshgrid(hand_x,hand_y)\n",
    "grid = np.array(grid)\n",
    "holds = grid.reshape(2,-1).T"
   ]
  },
  {
   "cell_type": "code",
   "execution_count": 35,
   "id": "771dbb4a",
   "metadata": {},
   "outputs": [],
   "source": [
    "def find_id(input_cord, holds = holds):\n",
    "  x_dist = (input_cord[0] - holds[:, 0]) #All rows, 0th element in each row\n",
    "  y_dist = (input_cord[1] - holds[:, 1]) #All rows, first element in each row\n",
    "  distance = (x_dist**2) + (y_dist**2) #diagonal distance\n",
    "  return np.argmin(distance)\n",
    "\n",
    "def find_many_id(my_holds, holds = holds):\n",
    "  return [find_id(my_holds[i]) for i in range(len(my_holds))]"
   ]
  },
  {
   "cell_type": "code",
   "execution_count": 36,
   "id": "f12f1f65",
   "metadata": {},
   "outputs": [],
   "source": [
    "hand_result = cv2.matchTemplate(img, hand, cv2.TM_CCOEFF_NORMED)\n",
    "foot_result = cv2.matchTemplate(img, foot, cv2.TM_CCOEFF_NORMED)\n",
    "start_result = cv2.matchTemplate(img, start, cv2.TM_CCOEFF_NORMED)\n",
    "finish_result = cv2.matchTemplate(img, finish, cv2.TM_CCOEFF_NORMED)"
   ]
  },
  {
   "cell_type": "code",
   "execution_count": 37,
   "id": "76bc61f8",
   "metadata": {},
   "outputs": [],
   "source": [
    "hand_min_val, hand_max_val, hand_min_loc, hand_max_loc = cv2.minMaxLoc(hand_result)\n",
    "foot_min_val, foot_max_val, foot_min_loc, foot_max_loc = cv2.minMaxLoc(foot_result)\n",
    "start_min_val, start_max_val, start_min_loc, start_max_loc = cv2.minMaxLoc(start_result)\n",
    "finish_min_val, finish_max_val, finish_min_loc, finish_max_loc = cv2.minMaxLoc(finish_result)"
   ]
  },
  {
   "cell_type": "code",
   "execution_count": 38,
   "id": "9ff6690d",
   "metadata": {},
   "outputs": [],
   "source": [
    "hand_threshold = .40\n",
    "foot_threshold = .40\n",
    "start_threshold = .50\n",
    "finish_threshold = .50"
   ]
  },
  {
   "cell_type": "code",
   "execution_count": 39,
   "id": "e7de50a0",
   "metadata": {},
   "outputs": [],
   "source": [
    "hand_yloc, hand_xloc = np.where(hand_result >= hand_threshold)\n",
    "foot_yloc, foot_xloc = np.where(foot_result >= foot_threshold)\n",
    "start_yloc, start_xloc = np.where(start_result >= start_threshold)\n",
    "finish_yloc, finish_xloc = np.where(finish_result >= finish_threshold)"
   ]
  },
  {
   "cell_type": "code",
   "execution_count": 40,
   "id": "72a7b324",
   "metadata": {},
   "outputs": [],
   "source": [
    "hold_length = 60  \n",
    "hold_height = 60  "
   ]
  },
  {
   "cell_type": "code",
   "execution_count": 41,
   "id": "1e551f28",
   "metadata": {},
   "outputs": [],
   "source": [
    "hand_rectangles = [[x, y, hold_length, hold_height] for x,y  in zip(hand_xloc, hand_yloc)]"
   ]
  },
  {
   "cell_type": "code",
   "execution_count": 42,
   "id": "eaa3ecfe",
   "metadata": {},
   "outputs": [],
   "source": [
    "# hand_rectangles = []\n",
    "# for (x, y) in zip(hand_xloc, hand_yloc):\n",
    "#     hand_rectangles.append([x, y, hold_length, hold_height])"
   ]
  },
  {
   "cell_type": "code",
   "execution_count": 43,
   "id": "7d1e10b6",
   "metadata": {},
   "outputs": [],
   "source": [
    "foot_rectangles = []\n",
    "for (x, y) in zip(foot_xloc, foot_yloc):\n",
    "    foot_rectangles.append([x, y, hold_length, hold_height])"
   ]
  },
  {
   "cell_type": "code",
   "execution_count": 44,
   "id": "92328682",
   "metadata": {},
   "outputs": [],
   "source": [
    "start_rectangles = []\n",
    "for (x, y) in zip(start_xloc, start_yloc):\n",
    "    start_rectangles.append([x, y, hold_length, hold_height])"
   ]
  },
  {
   "cell_type": "code",
   "execution_count": 45,
   "id": "ee49ef88",
   "metadata": {},
   "outputs": [],
   "source": [
    "finish_rectangles = []\n",
    "for (x, y) in zip(finish_xloc, finish_yloc):\n",
    "    finish_rectangles.append([x, y, hold_length, hold_height])"
   ]
  },
  {
   "cell_type": "code",
   "execution_count": 46,
   "id": "5ea09d21",
   "metadata": {},
   "outputs": [],
   "source": [
    "hand_rectangles, weights = cv2.groupRectangles(hand_rectangles, 1, 0.2)\n",
    "foot_rectangles, weights = cv2.groupRectangles(foot_rectangles, 1, 0.2)\n",
    "start_rectangles, weights = cv2.groupRectangles(start_rectangles, 1, 0.2)\n",
    "finish_rectangles, weights = cv2.groupRectangles(finish_rectangles, 1, 0.2)"
   ]
  },
  {
   "cell_type": "code",
   "execution_count": 47,
   "id": "18daa96f",
   "metadata": {},
   "outputs": [],
   "source": [
    "for (x, y, w, h) in hand_rectangles:\n",
    "    cv2.rectangle(img, (x, y), (x + w, y + h), (0,0,0), 2)"
   ]
  },
  {
   "cell_type": "code",
   "execution_count": 48,
   "id": "a41e33ba",
   "metadata": {},
   "outputs": [],
   "source": [
    "for (x, y, w, h) in foot_rectangles:\n",
    "    cv2.rectangle(img, (x, y), (x + w, y + h), (0,0,0), 2)"
   ]
  },
  {
   "cell_type": "code",
   "execution_count": 49,
   "id": "46661aaa",
   "metadata": {},
   "outputs": [],
   "source": [
    "for (x, y, w, h) in start_rectangles:\n",
    "    cv2.rectangle(img, (x, y), (x + w, y + h), (0,0,0), 2)"
   ]
  },
  {
   "cell_type": "code",
   "execution_count": 50,
   "id": "f5c3742d",
   "metadata": {},
   "outputs": [],
   "source": [
    "for (x, y, w, h) in finish_rectangles:\n",
    "    cv2.rectangle(img, (x, y), (x + w, y + h), (0,0,0), 2)"
   ]
  },
  {
   "cell_type": "code",
   "execution_count": 51,
   "id": "1640add4",
   "metadata": {},
   "outputs": [],
   "source": [
    "main_grid = [ [0]*11 for i in range(19)] #19 rows 11 columns"
   ]
  },
  {
   "cell_type": "code",
   "execution_count": 52,
   "id": "85f6a8b0",
   "metadata": {},
   "outputs": [],
   "source": [
    "buffer = 5\n",
    "\n",
    "test_grid = [ [0]*11 for i in range(19)] #19 rows 11 columns\n",
    "for x in range(19):\n",
    "    for y in range(11):\n",
    "        top_left = (hand_x[y] - buffer, hand_y[x] - buffer)\n",
    "        bottom_right = (hand_x[y] + buffer, hand_y[x] + buffer)\n",
    "        \n",
    "        test_grid[x][y] = (top_left, bottom_right)\n",
    "        cv2.rectangle(img, top_left, bottom_right, (209,203,193), 2)\n",
    "        \n",
    "        \n",
    "        for (x_pos, y_pos, _, _) in hand_rectangles:\n",
    "            hand_position = (x_pos, y_pos)\n",
    "            \n",
    "            if(hand_position[0] >= top_left[0] and hand_position[0] <= bottom_right[0]#top left corner within grid\n",
    "               and hand_position[1] >= top_left[1] and hand_position[1] <= bottom_right[1]): \n",
    "                cv2.circle(img, (x_pos, y_pos), 3, (0,0,0), 2)\n",
    "                cv2.circle(img, (x_pos, y_pos), 3, (255,255,0), -1)\n",
    "                main_grid[x][y] = 1\n",
    "                #print(x_pos,y_pos)\n",
    "        \n",
    "        for (x_pos, y_pos, _, _) in foot_rectangles:\n",
    "            foot_position = (x_pos, y_pos)\n",
    "            \n",
    "            if(hand_position[0] >= top_left[0] and hand_position[0] <= bottom_right[0]#top left corner within grid\n",
    "               and hand_position[1] >= top_left[1] and hand_position[1] <= bottom_right[1]): \n",
    "                cv2.circle(img, (x_pos, y_pos), 3, (0,0,0), 2)\n",
    "                cv2.circle(img, (x_pos, y_pos), 3, (255,170,0), -1)\n",
    "                main_grid[x][y] = 1\n",
    "                #print(x_pos,y_pos)\n",
    "        \n",
    "        for (x_pos, y_pos, _, _) in start_rectangles:\n",
    "            start_position = (x_pos, y_pos)\n",
    "            \n",
    "            if(hand_position[0] >= top_left[0] and hand_position[0] <= bottom_right[0]#top left corner within grid\n",
    "               and hand_position[1] >= top_left[1] and hand_position[1] <= bottom_right[1]): \n",
    "                cv2.circle(img, (x_pos, y_pos), 3, (0,0,0), 2)\n",
    "                cv2.circle(img, (x_pos, y_pos), 3, (0,255,0), -1)\n",
    "                main_grid[x][y] = 1\n",
    "                #print(x_pos,y_pos)\n",
    "        \n",
    "        for (x_pos, y_pos, _, _) in finish_rectangles:\n",
    "            finish_position = (x_pos, y_pos)\n",
    "            \n",
    "            if(hand_position[0] >= top_left[0] and hand_position[0] <= bottom_right[0]#top left corner within grid\n",
    "               and hand_position[1] >= top_left[1] and hand_position[1] <= bottom_right[1]): \n",
    "                cv2.circle(img, (x_pos, y_pos), 3, (0,0,0), 2)\n",
    "                cv2.circle(img, (x_pos, y_pos), 3, (255,0,255), -1)\n",
    "                main_grid[x][y] = 1\n",
    "                #print(x_pos,y_pos)\n",
    "        "
   ]
  },
  {
   "cell_type": "code",
   "execution_count": 53,
   "id": "d898c34f",
   "metadata": {},
   "outputs": [],
   "source": [
    "zoom = 0.6\n",
    "img = cv2.resize(img, (0, 0), fx=zoom, fy=zoom)\n",
    "cv2.imshow('img', img)\n",
    "cv2.waitKey()\n",
    "cv2.destroyAllWindows()"
   ]
  },
  {
   "cell_type": "code",
   "execution_count": 54,
   "id": "6bc209a8",
   "metadata": {},
   "outputs": [
    {
     "name": "stdout",
     "output_type": "stream",
     "text": [
      "5\n"
     ]
    }
   ],
   "source": [
    "print(sum(sum(main_grid,[]))) #number of holds"
   ]
  },
  {
   "cell_type": "code",
   "execution_count": null,
   "id": "3d7f9f2a",
   "metadata": {},
   "outputs": [],
   "source": []
  },
  {
   "cell_type": "code",
   "execution_count": null,
   "id": "92954a32",
   "metadata": {},
   "outputs": [],
   "source": []
  }
 ],
 "metadata": {
  "kernelspec": {
   "display_name": "Python 3 (ipykernel)",
   "language": "python",
   "name": "python3"
  },
  "language_info": {
   "codemirror_mode": {
    "name": "ipython",
    "version": 3
   },
   "file_extension": ".py",
   "mimetype": "text/x-python",
   "name": "python",
   "nbconvert_exporter": "python",
   "pygments_lexer": "ipython3",
   "version": "3.9.7"
  }
 },
 "nbformat": 4,
 "nbformat_minor": 5
}
