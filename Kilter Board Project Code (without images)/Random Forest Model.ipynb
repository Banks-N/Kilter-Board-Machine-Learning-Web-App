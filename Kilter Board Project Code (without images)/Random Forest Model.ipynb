{
 "cells": [
  {
   "cell_type": "code",
   "execution_count": 1,
   "metadata": {
    "_cell_guid": "b1076dfc-b9ad-4769-8c92-a6c4dae69d19",
    "_uuid": "8f2839f25d086af736a60e9eeb907d3b93b6e0e5",
    "execution": {
     "iopub.execute_input": "2022-01-26T19:27:41.873627Z",
     "iopub.status.busy": "2022-01-26T19:27:41.873179Z",
     "iopub.status.idle": "2022-01-26T19:27:41.904726Z",
     "shell.execute_reply": "2022-01-26T19:27:41.903921Z",
     "shell.execute_reply.started": "2022-01-26T19:27:41.873516Z"
    }
   },
   "outputs": [],
   "source": [
    "#https://www.kaggle.com/banksn\n",
    "#https://www.analyticsvidhya.com/blog/2021/06/generate-reports-using-pandas-profiling-deploy-using-streamlit/\n",
    "import numpy as np # linear algebra\n",
    "import pandas as pd # data processing, CSV file I/O (e.g. pd.read_csv)\n",
    "import sklearn\n",
    "from sklearn.ensemble import RandomForestRegressor\n",
    "from sklearn.model_selection import train_test_split\n",
    "from sklearn.metrics import plot_confusion_matrix\n",
    "from sklearn.metrics import roc_auc_score\n",
    "from sklearn.model_selection import RandomizedSearchCV\n",
    "from sklearn.metrics import classification_report\n",
    "from sklearn.model_selection import GridSearchCV\n",
    "\n",
    "\n",
    "\n",
    "\n",
    "#run random grid again\n",
    "#Gradient boosted XGBOOST"
   ]
  },
  {
   "cell_type": "code",
   "execution_count": 2,
   "metadata": {},
   "outputs": [],
   "source": [
    "def find_accuracy(list1, list2):\n",
    "    difference_count = 0\n",
    "    \n",
    "    if list1.size!=list2.size:\n",
    "        print('error, lists not the same size')\n",
    "    else:\n",
    "        for x in range(list1.size):\n",
    "            difference_count += abs(int(list1[x]) - int(list2[x]))\n",
    "            #print(list1[x],list2[x])\n",
    "            \n",
    "    print(f'In {list1.size} elements, you had a difference of {difference_count}')\n",
    "    print(f'This means an average of {difference_count/list1.size} deviation per hold')"
   ]
  },
  {
   "cell_type": "code",
   "execution_count": 3,
   "metadata": {
    "execution": {
     "iopub.execute_input": "2022-01-26T19:27:41.906340Z",
     "iopub.status.busy": "2022-01-26T19:27:41.906069Z",
     "iopub.status.idle": "2022-01-26T19:27:41.952095Z",
     "shell.execute_reply": "2022-01-26T19:27:41.951473Z",
     "shell.execute_reply.started": "2022-01-26T19:27:41.906308Z"
    },
    "scrolled": false
   },
   "outputs": [
    {
     "data": {
      "text/html": [
       "<div>\n",
       "<style scoped>\n",
       "    .dataframe tbody tr th:only-of-type {\n",
       "        vertical-align: middle;\n",
       "    }\n",
       "\n",
       "    .dataframe tbody tr th {\n",
       "        vertical-align: top;\n",
       "    }\n",
       "\n",
       "    .dataframe thead th {\n",
       "        text-align: right;\n",
       "    }\n",
       "</style>\n",
       "<table border=\"1\" class=\"dataframe\">\n",
       "  <thead>\n",
       "    <tr style=\"text-align: right;\">\n",
       "      <th></th>\n",
       "      <th>Unnamed: 0</th>\n",
       "      <th>Hold 0</th>\n",
       "      <th>Hold 1</th>\n",
       "      <th>Hold 2</th>\n",
       "      <th>Hold 3</th>\n",
       "      <th>Hold 4</th>\n",
       "      <th>Hold 5</th>\n",
       "      <th>Hold 6</th>\n",
       "      <th>Hold 7</th>\n",
       "      <th>Hold 8</th>\n",
       "      <th>...</th>\n",
       "      <th>Quadrant 10</th>\n",
       "      <th>Quadrant 4</th>\n",
       "      <th>Quadrant 13</th>\n",
       "      <th>Quadrant 0</th>\n",
       "      <th>Quadrant 11</th>\n",
       "      <th>Quadrant 12</th>\n",
       "      <th>Quadrant 2</th>\n",
       "      <th>total_Sloper</th>\n",
       "      <th>Quadrant 14</th>\n",
       "      <th>Hold 310</th>\n",
       "    </tr>\n",
       "  </thead>\n",
       "  <tbody>\n",
       "    <tr>\n",
       "      <th>850</th>\n",
       "      <td>850</td>\n",
       "      <td>0</td>\n",
       "      <td>0</td>\n",
       "      <td>0</td>\n",
       "      <td>0</td>\n",
       "      <td>0</td>\n",
       "      <td>0</td>\n",
       "      <td>0</td>\n",
       "      <td>0</td>\n",
       "      <td>0</td>\n",
       "      <td>...</td>\n",
       "      <td>0.0</td>\n",
       "      <td>0.0</td>\n",
       "      <td>0.0</td>\n",
       "      <td>0.0</td>\n",
       "      <td>1.0</td>\n",
       "      <td>2.0</td>\n",
       "      <td>0.0</td>\n",
       "      <td>0.0</td>\n",
       "      <td>0.0</td>\n",
       "      <td>0.0</td>\n",
       "    </tr>\n",
       "    <tr>\n",
       "      <th>851</th>\n",
       "      <td>851</td>\n",
       "      <td>0</td>\n",
       "      <td>0</td>\n",
       "      <td>4</td>\n",
       "      <td>0</td>\n",
       "      <td>0</td>\n",
       "      <td>0</td>\n",
       "      <td>0</td>\n",
       "      <td>0</td>\n",
       "      <td>0</td>\n",
       "      <td>...</td>\n",
       "      <td>1.0</td>\n",
       "      <td>0.0</td>\n",
       "      <td>2.0</td>\n",
       "      <td>1.0</td>\n",
       "      <td>1.0</td>\n",
       "      <td>0.0</td>\n",
       "      <td>0.0</td>\n",
       "      <td>1.0</td>\n",
       "      <td>0.0</td>\n",
       "      <td>0.0</td>\n",
       "    </tr>\n",
       "    <tr>\n",
       "      <th>852</th>\n",
       "      <td>852</td>\n",
       "      <td>0</td>\n",
       "      <td>0</td>\n",
       "      <td>0</td>\n",
       "      <td>4</td>\n",
       "      <td>0</td>\n",
       "      <td>0</td>\n",
       "      <td>0</td>\n",
       "      <td>0</td>\n",
       "      <td>0</td>\n",
       "      <td>...</td>\n",
       "      <td>0.0</td>\n",
       "      <td>0.0</td>\n",
       "      <td>2.0</td>\n",
       "      <td>3.0</td>\n",
       "      <td>1.0</td>\n",
       "      <td>1.0</td>\n",
       "      <td>0.0</td>\n",
       "      <td>0.0</td>\n",
       "      <td>0.0</td>\n",
       "      <td>0.0</td>\n",
       "    </tr>\n",
       "    <tr>\n",
       "      <th>853</th>\n",
       "      <td>853</td>\n",
       "      <td>0</td>\n",
       "      <td>0</td>\n",
       "      <td>0</td>\n",
       "      <td>0</td>\n",
       "      <td>0</td>\n",
       "      <td>0</td>\n",
       "      <td>0</td>\n",
       "      <td>0</td>\n",
       "      <td>4</td>\n",
       "      <td>...</td>\n",
       "      <td>2.0</td>\n",
       "      <td>0.0</td>\n",
       "      <td>1.0</td>\n",
       "      <td>0.0</td>\n",
       "      <td>0.0</td>\n",
       "      <td>1.0</td>\n",
       "      <td>2.0</td>\n",
       "      <td>2.0</td>\n",
       "      <td>1.0</td>\n",
       "      <td>0.0</td>\n",
       "    </tr>\n",
       "    <tr>\n",
       "      <th>854</th>\n",
       "      <td>854</td>\n",
       "      <td>0</td>\n",
       "      <td>0</td>\n",
       "      <td>0</td>\n",
       "      <td>0</td>\n",
       "      <td>0</td>\n",
       "      <td>0</td>\n",
       "      <td>0</td>\n",
       "      <td>0</td>\n",
       "      <td>0</td>\n",
       "      <td>...</td>\n",
       "      <td>3.0</td>\n",
       "      <td>0.0</td>\n",
       "      <td>1.0</td>\n",
       "      <td>0.0</td>\n",
       "      <td>0.0</td>\n",
       "      <td>2.0</td>\n",
       "      <td>2.0</td>\n",
       "      <td>0.0</td>\n",
       "      <td>0.0</td>\n",
       "      <td>0.0</td>\n",
       "    </tr>\n",
       "  </tbody>\n",
       "</table>\n",
       "<p>5 rows × 377 columns</p>\n",
       "</div>"
      ],
      "text/plain": [
       "     Unnamed: 0  Hold 0  Hold 1  Hold 2  Hold 3  Hold 4  Hold 5  Hold 6  \\\n",
       "850         850       0       0       0       0       0       0       0   \n",
       "851         851       0       0       4       0       0       0       0   \n",
       "852         852       0       0       0       4       0       0       0   \n",
       "853         853       0       0       0       0       0       0       0   \n",
       "854         854       0       0       0       0       0       0       0   \n",
       "\n",
       "     Hold 7  Hold 8  ...  Quadrant 10  Quadrant 4  Quadrant 13  Quadrant 0  \\\n",
       "850       0       0  ...          0.0         0.0          0.0         0.0   \n",
       "851       0       0  ...          1.0         0.0          2.0         1.0   \n",
       "852       0       0  ...          0.0         0.0          2.0         3.0   \n",
       "853       0       4  ...          2.0         0.0          1.0         0.0   \n",
       "854       0       0  ...          3.0         0.0          1.0         0.0   \n",
       "\n",
       "     Quadrant 11  Quadrant 12  Quadrant 2  total_Sloper  Quadrant 14  Hold 310  \n",
       "850          1.0          2.0         0.0           0.0          0.0       0.0  \n",
       "851          1.0          0.0         0.0           1.0          0.0       0.0  \n",
       "852          1.0          1.0         0.0           0.0          0.0       0.0  \n",
       "853          0.0          1.0         2.0           2.0          1.0       0.0  \n",
       "854          0.0          2.0         2.0           0.0          0.0       0.0  \n",
       "\n",
       "[5 rows x 377 columns]"
      ]
     },
     "execution_count": 3,
     "metadata": {},
     "output_type": "execute_result"
    }
   ],
   "source": [
    "train_data = pd.read_csv(\"data11.csv\")\n",
    "train_data.tail()"
   ]
  },
  {
   "cell_type": "code",
   "execution_count": 4,
   "metadata": {},
   "outputs": [],
   "source": [
    "train_data = train_data.loc[:, train_data.columns != \"Unnamed: 0\"]\n",
    "train_data = train_data.loc[:, train_data.columns != \"name\"]\n",
    "train_data = train_data.loc[:, train_data.columns != \"filepath\"]"
   ]
  },
  {
   "cell_type": "code",
   "execution_count": 5,
   "metadata": {},
   "outputs": [],
   "source": [
    "y = train_data[\"grade\"]"
   ]
  },
  {
   "cell_type": "code",
   "execution_count": 6,
   "metadata": {},
   "outputs": [],
   "source": [
    "train_data = train_data.loc[:, train_data.columns != \"grade\"]"
   ]
  },
  {
   "cell_type": "code",
   "execution_count": 7,
   "metadata": {},
   "outputs": [],
   "source": [
    "X = train_data\n",
    "\n",
    "X_train, X_validation, y_train, y_validation = train_test_split(X, y, test_size=0.33, random_state=42)"
   ]
  },
  {
   "cell_type": "code",
   "execution_count": 8,
   "metadata": {},
   "outputs": [],
   "source": [
    "# parameters = {\n",
    "#     'n_estimators': [500,400,300,200,100] ,\n",
    "#     'min_samples_split': [0.01, 0.005, 0.001], \n",
    "#     'min_samples_leaf': [0.01, 0.005, 0.001], \n",
    "#     'max_features': ['sqrt',0.1, 0.25, 0.5,0.75], \n",
    "#     'max_depth': [5,4,3,2,1], \n",
    "#     'bootstrap': [True,False]}\n",
    "\n",
    "# Random Search V1\n",
    "# parameters = {\n",
    "#  'bootstrap': [True, False],\n",
    "#  'max_depth': [15,10,5,4,3,2,1,None],\n",
    "#  'max_features': ['auto', 'sqrt'],\n",
    "#  'min_samples_leaf': [1, 2, 4],\n",
    "#  'min_samples_split': [2, 5, 10],\n",
    "#  'n_estimators': [500,400,300,200,100]}\n",
    "\n",
    "# # Random Search\n",
    "# parameters = {'n_estimators': [500],\n",
    "#  'min_samples_split': [2],\n",
    "#  'min_samples_leaf': [2],\n",
    "#  'max_features': ['auto'],\n",
    "#  'max_depth': [15],\n",
    "#  'bootstrap': [True]}\n",
    "\n",
    "# Grid Search\n",
    "parameters = {'bootstrap': [True],\n",
    " 'max_depth': [25],\n",
    " 'max_features': ['auto'],\n",
    " 'min_samples_leaf': [2],\n",
    " 'min_samples_split': [3],\n",
    " 'n_estimators': [400]}\n",
    "\n",
    "# Random Tuning\n",
    "# parameters = {'n_estimators': [50],\n",
    "#  'min_samples_split': [2],\n",
    "#  'min_samples_leaf': [4],\n",
    "#  'max_features': ['auto'],\n",
    "#  'max_depth': [10],\n",
    "\n",
    "\n",
    "# parameters = {'bootstrap': [True, False],\n",
    "#  'max_depth': [10, 20, 30, 40, 50, 60, 70, 80, 90, 100, None],\n",
    "#  'max_features': ['auto', 'sqrt'],\n",
    "#  'min_samples_leaf': [1, 2, 4],\n",
    "#  'min_samples_split': [2, 5, 10],\n",
    "#  'n_estimators': [200, 400, 600, 800, 1000, 1200, 1400, 1600, 1800, 2000]}\n",
    "\n",
    "# Grid Search after finding good randomssearch parameters\n",
    "# https://towardsdatascience.com/hyperparameter-tuning-the-random-forest-in-python-using-scikit-learn-28d2aa77dd74\n"
   ]
  },
  {
   "cell_type": "code",
   "execution_count": 9,
   "metadata": {},
   "outputs": [],
   "source": [
    "# # Create the parameter grid based on the results of random search \n",
    "# param_grid = {'n_estimators': [400,450,500,550,1000],\n",
    "#  'min_samples_split': [1,2,3],\n",
    "#  'min_samples_leaf': [1,2,3],\n",
    "#  'max_features': ['auto'],\n",
    "#  'max_depth': [5,10,15,20,25,100],\n",
    "#  'bootstrap': [True]\n",
    "# }\n",
    "\n",
    "\n",
    "\n",
    "\n",
    "# # Create a based model\n",
    "# model = RandomForestRegressor()\n",
    "# # Instantiate the grid search model\n",
    "# grid_search = GridSearchCV(estimator = model, param_grid = param_grid, scoring='neg_mean_squared_error',\n",
    "#                           cv = 3, n_jobs = -1, verbose = 2)\n",
    "# RandomizedSearch = grid_search"
   ]
  },
  {
   "cell_type": "code",
   "execution_count": 10,
   "metadata": {},
   "outputs": [],
   "source": [
    "model = RandomForestRegressor()\n",
    "\n",
    "RandomizedSearch = RandomizedSearchCV(estimator=model,\n",
    "             param_distributions=parameters, scoring='neg_mean_squared_error', n_jobs=-1, cv=3, verbose=2, random_state=42, n_iter = 1)"
   ]
  },
  {
   "cell_type": "code",
   "execution_count": 11,
   "metadata": {
    "scrolled": false
   },
   "outputs": [
    {
     "name": "stdout",
     "output_type": "stream",
     "text": [
      "Fitting 3 folds for each of 1 candidates, totalling 3 fits\n"
     ]
    },
    {
     "data": {
      "text/plain": [
       "RandomizedSearchCV(cv=3, estimator=RandomForestRegressor(), n_iter=1, n_jobs=-1,\n",
       "                   param_distributions={'bootstrap': [True], 'max_depth': [25],\n",
       "                                        'max_features': ['auto'],\n",
       "                                        'min_samples_leaf': [2],\n",
       "                                        'min_samples_split': [3],\n",
       "                                        'n_estimators': [400]},\n",
       "                   random_state=42, scoring='neg_mean_squared_error',\n",
       "                   verbose=2)"
      ]
     },
     "execution_count": 11,
     "metadata": {},
     "output_type": "execute_result"
    }
   ],
   "source": [
    "\n",
    "# model.fit(X_train, y_train)\n",
    "\n",
    "RandomizedSearch.fit(X_train, pd.to_numeric(y_train))"
   ]
  },
  {
   "cell_type": "code",
   "execution_count": 12,
   "metadata": {},
   "outputs": [
    {
     "data": {
      "text/plain": [
       "{'n_estimators': 400,\n",
       " 'min_samples_split': 3,\n",
       " 'min_samples_leaf': 2,\n",
       " 'max_features': 'auto',\n",
       " 'max_depth': 25,\n",
       " 'bootstrap': True}"
      ]
     },
     "execution_count": 12,
     "metadata": {},
     "output_type": "execute_result"
    }
   ],
   "source": [
    "RandomizedSearch.best_params_"
   ]
  },
  {
   "cell_type": "code",
   "execution_count": 13,
   "metadata": {
    "scrolled": true
   },
   "outputs": [
    {
     "data": {
      "text/plain": [
       "array([4., 2., 7., 4., 1., 4., 6., 8., 6., 6., 6., 3., 7., 1., 2., 7., 7.,\n",
       "       5., 4., 4., 7., 4., 7., 4., 3., 5., 3., 3., 6., 4., 4., 6., 7., 0.,\n",
       "       4., 7., 5., 8., 8., 7., 6., 6., 5., 4., 3., 5., 7., 8., 0., 1., 6.,\n",
       "       7., 0., 5., 7., 4., 4., 5., 3., 3., 2., 4., 7., 6., 2., 6., 1., 6.,\n",
       "       5., 5., 5., 0., 6., 4., 5., 4., 6., 7., 1., 3., 5., 6., 3., 6., 3.,\n",
       "       7., 4., 3., 2., 7., 1., 5., 4., 0., 3., 5., 7., 6., 2., 4., 3., 6.,\n",
       "       6., 5., 5., 2., 4., 3., 2., 6., 8., 5., 5., 3., 6., 6., 6., 5., 6.,\n",
       "       5., 5., 5., 3., 6., 2., 9., 2., 4., 5., 1., 7., 7., 8., 2., 4., 5.,\n",
       "       6., 3., 3., 5., 8., 3., 6., 7., 5., 7., 7., 7., 3., 5., 2., 4., 4.,\n",
       "       7., 3., 3., 2., 5., 3., 5., 7., 2., 6., 3., 5., 5., 6., 4., 3., 3.,\n",
       "       4., 3., 3., 3., 6., 7., 5., 5., 6., 5., 6., 7., 7., 3., 2., 4., 3.,\n",
       "       6., 4., 3., 1., 4., 3., 4., 8., 4., 6., 4., 5., 5., 6., 4., 4., 5.,\n",
       "       4., 6., 1., 4., 4., 5., 8., 4., 6., 7., 5., 3., 3., 3., 3., 4., 3.,\n",
       "       2., 5., 8., 8., 6., 2., 4., 5., 6., 4., 2., 6., 7., 5., 0., 8., 4.,\n",
       "       8., 3., 8., 3., 6., 3., 4., 5., 7., 2., 4., 5., 8., 3., 7., 3., 2.,\n",
       "       4., 3., 4., 8., 4., 7., 5., 4., 3., 2., 7., 6., 3., 7., 5., 9., 6.,\n",
       "       4., 6., 5., 6., 7., 1., 1., 6., 8., 4., 7., 7., 4., 7., 1., 7., 6.,\n",
       "       8., 5., 2., 6., 6., 8., 5., 1., 4., 5., 3., 7., 6., 4., 4., 5., 5.,\n",
       "       8., 7., 4., 6., 7., 7., 3., 6., 4., 7., 3., 4., 4., 6., 4., 4., 6.,\n",
       "       5., 3., 2., 7., 3., 6., 5., 6., 6., 4., 7., 8., 6., 4., 2., 6., 3.,\n",
       "       8., 6., 6., 2., 8., 7., 6., 1., 4., 4., 3., 6., 0., 5., 6., 4., 2.,\n",
       "       4., 4., 4., 3., 3., 5., 5., 5., 7., 3., 4., 3., 4., 5., 4., 4., 4.,\n",
       "       3., 2., 2., 3., 6., 7., 4., 7., 3., 4., 3., 7., 8., 1., 5., 6., 5.,\n",
       "       5., 5., 2., 5., 5., 5., 6., 4., 6., 7., 1., 5., 7., 8., 5., 4., 4.,\n",
       "       2., 6., 4., 5., 5., 3., 3., 7., 8., 7., 4., 7., 4., 2., 4., 6., 7.,\n",
       "       6., 7., 5., 2., 5., 7., 0., 7., 3., 4., 5., 5., 5., 5., 4., 4., 2.,\n",
       "       7., 2., 6., 4., 8., 7., 2., 6., 8., 4., 6., 4., 5., 1., 7., 5., 7.,\n",
       "       7., 6., 5., 4., 6., 4., 6., 7., 5., 6., 1., 0., 5., 7., 5., 7., 4.,\n",
       "       4., 4., 1., 4., 8., 2., 9., 5., 5., 6., 5., 5., 3., 4., 4., 4., 2.,\n",
       "       2., 6., 1., 8., 2., 3., 5., 5., 3., 6., 6., 7., 5., 6., 6., 3., 5.,\n",
       "       8., 6., 6., 5., 7., 1., 5., 8., 7., 4., 4., 8., 6., 5., 3., 6., 7.,\n",
       "       6., 3., 2., 3., 6., 5., 4., 5., 5., 3., 7., 3., 6., 7., 4., 5., 5.,\n",
       "       6., 4., 4., 1., 6., 0., 3., 3., 7., 2., 6., 3., 3., 4., 3., 7., 5.,\n",
       "       7., 3., 5., 4., 4., 1., 5., 3., 7., 7., 7.])"
      ]
     },
     "execution_count": 13,
     "metadata": {},
     "output_type": "execute_result"
    }
   ],
   "source": [
    "np.round(RandomizedSearch.predict(X_train))"
   ]
  },
  {
   "cell_type": "code",
   "execution_count": 14,
   "metadata": {},
   "outputs": [],
   "source": [
    "val_predict = RandomizedSearch.predict(X_validation)\n",
    "val_grade = np.round(val_predict)"
   ]
  },
  {
   "cell_type": "code",
   "execution_count": 15,
   "metadata": {
    "scrolled": true
   },
   "outputs": [
    {
     "data": {
      "text/plain": [
       "<sklearn.metrics._plot.confusion_matrix.ConfusionMatrixDisplay at 0x200051604f0>"
      ]
     },
     "execution_count": 15,
     "metadata": {},
     "output_type": "execute_result"
    },
    {
     "data": {
      "image/png": "[encoded data removed]",
      "text/plain": [
       "<Figure size 432x288 with 2 Axes>"
      ]
     },
     "metadata": {
      "needs_background": "light"
     },
     "output_type": "display_data"
    }
   ],
   "source": [
    "from sklearn.metrics import confusion_matrix, ConfusionMatrixDisplay\n",
    "label_range = np.arange(0, 13, 1)\n",
    "cm = confusion_matrix(y_validation, val_grade, labels=label_range)\n",
    "disp = ConfusionMatrixDisplay(confusion_matrix=cm,\n",
    "                              display_labels=label_range)\n",
    "disp.plot()"
   ]
  },
  {
   "cell_type": "code",
   "execution_count": 16,
   "metadata": {},
   "outputs": [
    {
     "data": {
      "text/plain": [
       "0.35680977906876044"
      ]
     },
     "execution_count": 16,
     "metadata": {},
     "output_type": "execute_result"
    }
   ],
   "source": [
    "from sklearn.metrics import mean_squared_error\n",
    "mean_squared_error(y_train.values, RandomizedSearch.predict(X_train))"
   ]
  },
  {
   "cell_type": "code",
   "execution_count": 17,
   "metadata": {},
   "outputs": [
    {
     "data": {
      "text/plain": [
       "0.9283628231666123"
      ]
     },
     "execution_count": 17,
     "metadata": {},
     "output_type": "execute_result"
    }
   ],
   "source": [
    "from sklearn.metrics import explained_variance_score\n",
    "explained_variance_score(y_train.values, RandomizedSearch.predict(X_train))"
   ]
  },
  {
   "cell_type": "code",
   "execution_count": 18,
   "metadata": {},
   "outputs": [
    {
     "data": {
      "text/plain": [
       "1.9368227463335088"
      ]
     },
     "execution_count": 18,
     "metadata": {},
     "output_type": "execute_result"
    }
   ],
   "source": [
    "from sklearn.metrics import mean_squared_error\n",
    "mean_squared_error(y_validation.values, RandomizedSearch.predict(X_validation))"
   ]
  },
  {
   "cell_type": "code",
   "execution_count": 19,
   "metadata": {},
   "outputs": [
    {
     "data": {
      "text/plain": [
       "0.6577634361990001"
      ]
     },
     "execution_count": 19,
     "metadata": {},
     "output_type": "execute_result"
    }
   ],
   "source": [
    "from sklearn.metrics import explained_variance_score\n",
    "explained_variance_score(y_validation.values, RandomizedSearch.predict(X_validation))"
   ]
  },
  {
   "cell_type": "code",
   "execution_count": 20,
   "metadata": {},
   "outputs": [
    {
     "name": "stdout",
     "output_type": "stream",
     "text": [
      "In 572 elements, you had a difference of 335\n",
      "This means an average of 0.5856643356643356 deviation per hold\n"
     ]
    }
   ],
   "source": [
    "find_accuracy(y_train.values, RandomizedSearch.predict(X_train))"
   ]
  },
  {
   "cell_type": "code",
   "execution_count": 21,
   "metadata": {
    "scrolled": true
   },
   "outputs": [
    {
     "name": "stdout",
     "output_type": "stream",
     "text": [
      "In 283 elements, you had a difference of 317\n",
      "This means an average of 1.1201413427561837 deviation per hold\n"
     ]
    }
   ],
   "source": [
    "find_accuracy(y_validation.values, RandomizedSearch.predict(X_validation))"
   ]
  },
  {
   "cell_type": "code",
   "execution_count": 22,
   "metadata": {},
   "outputs": [],
   "source": [
    "# y.plot.hist()"
   ]
  },
  {
   "cell_type": "code",
   "execution_count": 23,
   "metadata": {},
   "outputs": [],
   "source": [
    "#plot_confusion_matrix(model, X_validation, y_validation)"
   ]
  },
  {
   "cell_type": "code",
   "execution_count": 24,
   "metadata": {
    "scrolled": true
   },
   "outputs": [],
   "source": [
    "#print(classification_report(y_train, model.predict(X_train)))"
   ]
  },
  {
   "cell_type": "code",
   "execution_count": 25,
   "metadata": {},
   "outputs": [],
   "source": [
    "#print(classification_report(y_validation, model.predict(X_validation)))"
   ]
  },
  {
   "cell_type": "code",
   "execution_count": 26,
   "metadata": {
    "scrolled": true
   },
   "outputs": [],
   "source": [
    "\n",
    "# print(roc_auc_score(y_train, model.predict(X_train), average=None))\n",
    "# print(roc_auc_score(y_validation, model.predict(X_validation), average=None))\n"
   ]
  },
  {
   "cell_type": "code",
   "execution_count": null,
   "metadata": {},
   "outputs": [],
   "source": []
  }
 ],
 "metadata": {
  "kernelspec": {
   "display_name": "Python 3 (ipykernel)",
   "language": "python",
   "name": "python3"
  },
  "language_info": {
   "codemirror_mode": {
    "name": "ipython",
    "version": 3
   },
   "file_extension": ".py",
   "mimetype": "text/x-python",
   "name": "python",
   "nbconvert_exporter": "python",
   "pygments_lexer": "ipython3",
   "version": "3.9.7"
  }
 },
 "nbformat": 4,
 "nbformat_minor": 4
}
