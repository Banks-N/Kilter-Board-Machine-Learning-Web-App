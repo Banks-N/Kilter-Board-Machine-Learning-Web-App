{
 "cells": [
  {
   "cell_type": "code",
   "execution_count": 433,
   "id": "aa51075c",
   "metadata": {},
   "outputs": [],
   "source": [
    "# pip install tensorflow"
   ]
  },
  {
   "cell_type": "code",
   "execution_count": 24,
   "id": "137ef4f6",
   "metadata": {
    "_cell_guid": "b1076dfc-b9ad-4769-8c92-a6c4dae69d19",
    "_uuid": "8f2839f25d086af736a60e9eeb907d3b93b6e0e5",
    "execution": {
     "iopub.execute_input": "2021-12-17T22:45:47.795467Z",
     "iopub.status.busy": "2021-12-17T22:45:47.793949Z",
     "iopub.status.idle": "2021-12-17T22:45:53.281685Z",
     "shell.execute_reply": "2021-12-17T22:45:53.280674Z",
     "shell.execute_reply.started": "2021-12-17T21:53:25.748179Z"
    },
    "papermill": {
     "duration": 5.514352,
     "end_time": "2021-12-17T22:45:53.281841",
     "exception": false,
     "start_time": "2021-12-17T22:45:47.767489",
     "status": "completed"
    },
    "tags": []
   },
   "outputs": [],
   "source": [
    "# Importing needed libraries/modules\n",
    "\n",
    "import matplotlib.pyplot as plt\n",
    "import numpy as np\n",
    "import pandas as pd\n",
    "\n",
    "# sklearn for pre-processing\n",
    "from sklearn.model_selection import train_test_split\n",
    "from sklearn.preprocessing import MinMaxScaler\n",
    "\n",
    "#From random forest\n",
    "from sklearn.model_selection import GridSearchCV\n",
    "from sklearn.model_selection import GridSearchCV\n",
    "import sklearn\n",
    "\n",
    "# TensorFlow sequential model\n",
    "from tensorflow import keras\n",
    "from tensorflow.keras import backend as K\n",
    "from tensorflow.keras.models import Sequential\n",
    "from tensorflow.keras.layers import BatchNormalization\n",
    "from tensorflow.keras.layers import Dense\n",
    "from tensorflow.keras.layers import Dropout\n",
    "from tensorflow.keras.optimizers import Adam"
   ]
  },
  {
   "cell_type": "code",
   "execution_count": 25,
   "id": "aae53875",
   "metadata": {
    "execution": {
     "iopub.execute_input": "2021-12-17T22:45:53.325722Z",
     "iopub.status.busy": "2021-12-17T22:45:53.324917Z",
     "iopub.status.idle": "2021-12-17T22:45:53.359743Z",
     "shell.execute_reply": "2021-12-17T22:45:53.360196Z",
     "shell.execute_reply.started": "2021-12-17T21:53:31.124456Z"
    },
    "papermill": {
     "duration": 0.05859,
     "end_time": "2021-12-17T22:45:53.360435",
     "exception": false,
     "start_time": "2021-12-17T22:45:53.301845",
     "status": "completed"
    },
    "tags": []
   },
   "outputs": [
    {
     "data": {
      "text/html": [
       "<div>\n",
       "<style scoped>\n",
       "    .dataframe tbody tr th:only-of-type {\n",
       "        vertical-align: middle;\n",
       "    }\n",
       "\n",
       "    .dataframe tbody tr th {\n",
       "        vertical-align: top;\n",
       "    }\n",
       "\n",
       "    .dataframe thead th {\n",
       "        text-align: right;\n",
       "    }\n",
       "</style>\n",
       "<table border=\"1\" class=\"dataframe\">\n",
       "  <thead>\n",
       "    <tr style=\"text-align: right;\">\n",
       "      <th></th>\n",
       "      <th>Unnamed: 0</th>\n",
       "      <th>Hold 0</th>\n",
       "      <th>Hold 1</th>\n",
       "      <th>Hold 2</th>\n",
       "      <th>Hold 3</th>\n",
       "      <th>Hold 4</th>\n",
       "      <th>Hold 5</th>\n",
       "      <th>Hold 6</th>\n",
       "      <th>Hold 7</th>\n",
       "      <th>Hold 8</th>\n",
       "      <th>...</th>\n",
       "      <th>Quadrant 10</th>\n",
       "      <th>Quadrant 4</th>\n",
       "      <th>Quadrant 13</th>\n",
       "      <th>Quadrant 0</th>\n",
       "      <th>Quadrant 11</th>\n",
       "      <th>Quadrant 12</th>\n",
       "      <th>Quadrant 2</th>\n",
       "      <th>total_Sloper</th>\n",
       "      <th>Quadrant 14</th>\n",
       "      <th>Hold 310</th>\n",
       "    </tr>\n",
       "  </thead>\n",
       "  <tbody>\n",
       "    <tr>\n",
       "      <th>850</th>\n",
       "      <td>850</td>\n",
       "      <td>0</td>\n",
       "      <td>0</td>\n",
       "      <td>0</td>\n",
       "      <td>0</td>\n",
       "      <td>0</td>\n",
       "      <td>0</td>\n",
       "      <td>0</td>\n",
       "      <td>0</td>\n",
       "      <td>0</td>\n",
       "      <td>...</td>\n",
       "      <td>0.0</td>\n",
       "      <td>0.0</td>\n",
       "      <td>0.0</td>\n",
       "      <td>0.0</td>\n",
       "      <td>1.0</td>\n",
       "      <td>2.0</td>\n",
       "      <td>0.0</td>\n",
       "      <td>0.0</td>\n",
       "      <td>0.0</td>\n",
       "      <td>0.0</td>\n",
       "    </tr>\n",
       "    <tr>\n",
       "      <th>851</th>\n",
       "      <td>851</td>\n",
       "      <td>0</td>\n",
       "      <td>0</td>\n",
       "      <td>4</td>\n",
       "      <td>0</td>\n",
       "      <td>0</td>\n",
       "      <td>0</td>\n",
       "      <td>0</td>\n",
       "      <td>0</td>\n",
       "      <td>0</td>\n",
       "      <td>...</td>\n",
       "      <td>1.0</td>\n",
       "      <td>0.0</td>\n",
       "      <td>2.0</td>\n",
       "      <td>1.0</td>\n",
       "      <td>1.0</td>\n",
       "      <td>0.0</td>\n",
       "      <td>0.0</td>\n",
       "      <td>1.0</td>\n",
       "      <td>0.0</td>\n",
       "      <td>0.0</td>\n",
       "    </tr>\n",
       "    <tr>\n",
       "      <th>852</th>\n",
       "      <td>852</td>\n",
       "      <td>0</td>\n",
       "      <td>0</td>\n",
       "      <td>0</td>\n",
       "      <td>4</td>\n",
       "      <td>0</td>\n",
       "      <td>0</td>\n",
       "      <td>0</td>\n",
       "      <td>0</td>\n",
       "      <td>0</td>\n",
       "      <td>...</td>\n",
       "      <td>0.0</td>\n",
       "      <td>0.0</td>\n",
       "      <td>2.0</td>\n",
       "      <td>3.0</td>\n",
       "      <td>1.0</td>\n",
       "      <td>1.0</td>\n",
       "      <td>0.0</td>\n",
       "      <td>0.0</td>\n",
       "      <td>0.0</td>\n",
       "      <td>0.0</td>\n",
       "    </tr>\n",
       "    <tr>\n",
       "      <th>853</th>\n",
       "      <td>853</td>\n",
       "      <td>0</td>\n",
       "      <td>0</td>\n",
       "      <td>0</td>\n",
       "      <td>0</td>\n",
       "      <td>0</td>\n",
       "      <td>0</td>\n",
       "      <td>0</td>\n",
       "      <td>0</td>\n",
       "      <td>4</td>\n",
       "      <td>...</td>\n",
       "      <td>2.0</td>\n",
       "      <td>0.0</td>\n",
       "      <td>1.0</td>\n",
       "      <td>0.0</td>\n",
       "      <td>0.0</td>\n",
       "      <td>1.0</td>\n",
       "      <td>2.0</td>\n",
       "      <td>2.0</td>\n",
       "      <td>1.0</td>\n",
       "      <td>0.0</td>\n",
       "    </tr>\n",
       "    <tr>\n",
       "      <th>854</th>\n",
       "      <td>854</td>\n",
       "      <td>0</td>\n",
       "      <td>0</td>\n",
       "      <td>0</td>\n",
       "      <td>0</td>\n",
       "      <td>0</td>\n",
       "      <td>0</td>\n",
       "      <td>0</td>\n",
       "      <td>0</td>\n",
       "      <td>0</td>\n",
       "      <td>...</td>\n",
       "      <td>3.0</td>\n",
       "      <td>0.0</td>\n",
       "      <td>1.0</td>\n",
       "      <td>0.0</td>\n",
       "      <td>0.0</td>\n",
       "      <td>2.0</td>\n",
       "      <td>2.0</td>\n",
       "      <td>0.0</td>\n",
       "      <td>0.0</td>\n",
       "      <td>0.0</td>\n",
       "    </tr>\n",
       "  </tbody>\n",
       "</table>\n",
       "<p>5 rows × 377 columns</p>\n",
       "</div>"
      ],
      "text/plain": [
       "     Unnamed: 0  Hold 0  Hold 1  Hold 2  Hold 3  Hold 4  Hold 5  Hold 6  \\\n",
       "850         850       0       0       0       0       0       0       0   \n",
       "851         851       0       0       4       0       0       0       0   \n",
       "852         852       0       0       0       4       0       0       0   \n",
       "853         853       0       0       0       0       0       0       0   \n",
       "854         854       0       0       0       0       0       0       0   \n",
       "\n",
       "     Hold 7  Hold 8  ...  Quadrant 10  Quadrant 4  Quadrant 13  Quadrant 0  \\\n",
       "850       0       0  ...          0.0         0.0          0.0         0.0   \n",
       "851       0       0  ...          1.0         0.0          2.0         1.0   \n",
       "852       0       0  ...          0.0         0.0          2.0         3.0   \n",
       "853       0       4  ...          2.0         0.0          1.0         0.0   \n",
       "854       0       0  ...          3.0         0.0          1.0         0.0   \n",
       "\n",
       "     Quadrant 11  Quadrant 12  Quadrant 2  total_Sloper  Quadrant 14  Hold 310  \n",
       "850          1.0          2.0         0.0           0.0          0.0       0.0  \n",
       "851          1.0          0.0         0.0           1.0          0.0       0.0  \n",
       "852          1.0          1.0         0.0           0.0          0.0       0.0  \n",
       "853          0.0          1.0         2.0           2.0          1.0       0.0  \n",
       "854          0.0          2.0         2.0           0.0          0.0       0.0  \n",
       "\n",
       "[5 rows x 377 columns]"
      ]
     },
     "execution_count": 25,
     "metadata": {},
     "output_type": "execute_result"
    }
   ],
   "source": [
    "train_data = pd.read_csv(\"data11.csv\")\n",
    "train_data.tail()"
   ]
  },
  {
   "cell_type": "code",
   "execution_count": 3,
   "id": "3921691c",
   "metadata": {
    "execution": {
     "iopub.execute_input": "2021-12-17T22:45:53.404865Z",
     "iopub.status.busy": "2021-12-17T22:45:53.404280Z",
     "iopub.status.idle": "2021-12-17T22:45:53.424744Z",
     "shell.execute_reply": "2021-12-17T22:45:53.425156Z",
     "shell.execute_reply.started": "2021-12-17T21:53:34.247233Z"
    },
    "papermill": {
     "duration": 0.044423,
     "end_time": "2021-12-17T22:45:53.425308",
     "exception": false,
     "start_time": "2021-12-17T22:45:53.380885",
     "status": "completed"
    },
    "tags": []
   },
   "outputs": [],
   "source": [
    "train_data = train_data.loc[:, train_data.columns != \"Unnamed: 0\"]\n",
    "train_data = train_data.loc[:, train_data.columns != \"name\"]\n",
    "train_data = train_data.loc[:, train_data.columns != \"filepath\"]\n",
    "train_data = train_data.loc[:, train_data.columns != \"campus\"]\n",
    "\n",
    "y = train_data[\"grade\"]\n",
    "\n",
    "train_data = train_data.loc[:, train_data.columns != \"grade\"]\n",
    "\n",
    "X = train_data\n",
    "X_train, X_validation, y_train, y_validation = train_test_split(X, y, test_size=0.33, random_state=42)"
   ]
  },
  {
   "cell_type": "code",
   "execution_count": 4,
   "id": "dc166e87",
   "metadata": {
    "execution": {
     "iopub.execute_input": "2021-12-17T22:45:53.540880Z",
     "iopub.status.busy": "2021-12-17T22:45:53.540012Z",
     "iopub.status.idle": "2021-12-17T22:45:53.541730Z",
     "shell.execute_reply": "2021-12-17T22:45:53.542225Z",
     "shell.execute_reply.started": "2021-12-17T22:02:27.962775Z"
    },
    "papermill": {
     "duration": 0.028846,
     "end_time": "2021-12-17T22:45:53.542361",
     "exception": false,
     "start_time": "2021-12-17T22:45:53.513515",
     "status": "completed"
    },
    "tags": []
   },
   "outputs": [],
   "source": [
    "#Function to make neural network\n",
    "\n",
    "def make_net(number_features, \n",
    "             hidden_layers=3, \n",
    "             hidden_layer_neurones=128, \n",
    "             dropout=0.0, \n",
    "             learning_rate=0.001):\n",
    "    \n",
    "    \"\"\"Make TensorFlow neural net\"\"\"\n",
    "    \n",
    "    # Clear Tensorflow \n",
    "    K.clear_session()\n",
    "    \n",
    "    # Set up neural net\n",
    "    net = Sequential()\n",
    "    \n",
    "    # Add hidden hidden_layers using a loop\n",
    "    for i in range(hidden_layers):\n",
    "        # Add fully connected layer with ReLu activation\n",
    "        net.add(Dense(\n",
    "            hidden_layer_neurones, \n",
    "            input_dim=number_features,\n",
    "            activation='leaky_relu'))\n",
    "        # Add droput layer\n",
    "        net.add(Dropout(dropout))\n",
    "    \n",
    "    # Add final sigmoid activation output\n",
    "    net.add(Dense(1, activation='linear'))    \n",
    "    \n",
    "    # Compiling model\n",
    "    opt = Adam(learning_rate=learning_rate)\n",
    "    \n",
    "    net.compile(loss='mean_squared_error', \n",
    "                optimizer=opt, \n",
    "                metrics=['mean_squared_error'])\n",
    "    \n",
    "    \n",
    "    \n",
    "    \n",
    "#     NN_model = Sequential()\n",
    "\n",
    "#     # The Input Layer :\n",
    "#     NN_model.add(Dense(128, kernel_initializer='normal',input_dim = X_train.shape[1], activation='relu'))\n",
    "\n",
    "#     # The Hidden Layers :\n",
    "#     NN_model.add(Dense(256, kernel_initializer='normal',activation='relu'))\n",
    "#     NN_model.add(Dense(256, kernel_initializer='normal',activation='relu'))\n",
    "#     NN_model.add(Dense(256, kernel_initializer='normal',activation='relu'))\n",
    "\n",
    "#     # The Output Layer :\n",
    "#     NN_model.add(Dense(1, kernel_initializer='normal',activation='linear'))\n",
    "\n",
    "#     # Compile the network :\n",
    "#     NN_model.compile(loss='mean_absolute_error', optimizer='adam', metrics=['mean_absolute_error'])\n",
    "#     NN_model.summary()\n",
    "    \n",
    "    return net"
   ]
  },
  {
   "cell_type": "code",
   "execution_count": 5,
   "id": "6cbc128a",
   "metadata": {
    "execution": {
     "iopub.execute_input": "2021-12-17T22:45:53.588132Z",
     "iopub.status.busy": "2021-12-17T22:45:53.587252Z",
     "iopub.status.idle": "2021-12-17T22:45:53.588965Z",
     "shell.execute_reply": "2021-12-17T22:45:53.589474Z",
     "shell.execute_reply.started": "2021-12-17T22:02:29.635648Z"
    },
    "papermill": {
     "duration": 0.027423,
     "end_time": "2021-12-17T22:45:53.589616",
     "exception": false,
     "start_time": "2021-12-17T22:45:53.562193",
     "status": "completed"
    },
    "tags": []
   },
   "outputs": [],
   "source": [
    "#Function to scale data from 0 - 1\n",
    "\n",
    "def scale_data(X_train, X_test):\n",
    "    \"\"\"Scale data 0-1 based on min and max in training set\"\"\"\n",
    "    \n",
    "    # Initialise a new scaling object for normalising input data\n",
    "    sc = MinMaxScaler()\n",
    "\n",
    "    # Set up the scaler just on the training set\n",
    "    sc.fit(X_train)\n",
    "\n",
    "    # Apply the scaler to the training and test sets\n",
    "    train_sc = sc.transform(X_train)\n",
    "    test_sc = sc.transform(X_test)\n",
    "    \n",
    "    return train_sc, test_sc"
   ]
  },
  {
   "cell_type": "code",
   "execution_count": 6,
   "id": "4fba157d",
   "metadata": {
    "execution": {
     "iopub.execute_input": "2021-12-17T22:45:53.636701Z",
     "iopub.status.busy": "2021-12-17T22:45:53.635859Z",
     "iopub.status.idle": "2021-12-17T22:45:53.643340Z",
     "shell.execute_reply": "2021-12-17T22:45:53.642886Z",
     "shell.execute_reply.started": "2021-12-17T22:02:30.997668Z"
    },
    "papermill": {
     "duration": 0.034128,
     "end_time": "2021-12-17T22:45:53.643462",
     "exception": false,
     "start_time": "2021-12-17T22:45:53.609334",
     "status": "completed"
    },
    "tags": []
   },
   "outputs": [],
   "source": [
    "# # Split data\n",
    "# X_train, X_test, y_train, y_test = train_test_split(\n",
    "#     X, y, test_size = 0.25, random_state=42)\n",
    "\n",
    "# Scale X data\n",
    "X_train_sc, X_test_sc = scale_data(X_train, X_validation)\n",
    "y_test = y_validation\n",
    "# X_train_sc = X_train\n",
    "# X_test_sc = X_validation"
   ]
  },
  {
   "cell_type": "code",
   "execution_count": 7,
   "id": "2390b66d",
   "metadata": {
    "execution": {
     "iopub.execute_input": "2021-12-17T22:45:53.689946Z",
     "iopub.status.busy": "2021-12-17T22:45:53.689072Z",
     "iopub.status.idle": "2021-12-17T22:45:53.690902Z",
     "shell.execute_reply": "2021-12-17T22:45:53.691365Z",
     "shell.execute_reply.started": "2021-12-17T22:02:33.903894Z"
    },
    "papermill": {
     "duration": 0.028115,
     "end_time": "2021-12-17T22:45:53.691501",
     "exception": false,
     "start_time": "2021-12-17T22:45:53.663386",
     "status": "completed"
    },
    "tags": []
   },
   "outputs": [],
   "source": [
    "#Function to calculate accuracy for troubleshooting / optimizing\n",
    "from sklearn.metrics import mean_squared_error\n",
    "from sklearn.metrics import explained_variance_score\n",
    "\n",
    "def calculate_accuracy(RandomizedSearch, X_train_sc, X_test_sc, y_train, y_test):\n",
    "    \"\"\"Calculate and print accuracy of trainign and test data fits\"\"\"    \n",
    "    \n",
    "    train_MSE = mean_squared_error(y_train.values, RandomizedSearch.predict(X_train_sc))\n",
    "    train_EVS = explained_variance_score(y_train.values, RandomizedSearch.predict(X_train_sc))\n",
    "    \n",
    "    test_MSE = mean_squared_error(y_test.values, RandomizedSearch.predict(X_test_sc))\n",
    "    test_EVS = explained_variance_score(y_test.values, RandomizedSearch.predict(X_test_sc))\n",
    "    \n",
    "    print(f\"train MSE {train_MSE}\")\n",
    "    print(f\"train EVS {train_EVS}\")\n",
    "    print(f\"test MSE {test_MSE}\")\n",
    "    print(f\"test EVS {test_EVS}\")\n",
    "    \n",
    "    \n",
    "#     ### Get accuracy of fit to training data\n",
    "#     probability = model.predict(X_train_sc)\n",
    "#     y_pred_train = probability >= 0.5\n",
    "#     y_pred_train = y_pred_train.flatten()\n",
    "#     accuracy_train = np.mean(y_pred_train == y_train)\n",
    "    \n",
    "#     ### Get accuracy of fit to test data\n",
    "#     probability = model.predict(X_test_sc)\n",
    "#     y_pred_test = probability >= 0.5\n",
    "#     y_pred_test = y_pred_test.flatten()\n",
    "#     accuracy_test = np.mean(y_pred_test == y_test)\n",
    "\n",
    "#     # Show acuracy\n",
    "#     print (f'Training accuracy {accuracy_train:0.3f}')\n",
    "#     print (f'Test accuracy {accuracy_test:0.3f}')"
   ]
  },
  {
   "cell_type": "code",
   "execution_count": 8,
   "id": "dcf36fdc",
   "metadata": {
    "execution": {
     "iopub.execute_input": "2021-12-17T22:45:53.737000Z",
     "iopub.status.busy": "2021-12-17T22:45:53.736282Z",
     "iopub.status.idle": "2021-12-17T22:45:53.738282Z",
     "shell.execute_reply": "2021-12-17T22:45:53.738655Z",
     "shell.execute_reply.started": "2021-12-17T22:02:35.391360Z"
    },
    "papermill": {
     "duration": 0.027399,
     "end_time": "2021-12-17T22:45:53.738789",
     "exception": false,
     "start_time": "2021-12-17T22:45:53.711390",
     "status": "completed"
    },
    "tags": []
   },
   "outputs": [],
   "source": [
    "#Function to Visualize Accuracy\n",
    "\n",
    "def plot_training(history_dict):\n",
    "    acc_values = history_dict['mean_squared_error']\n",
    "    val_acc_values = history_dict['val_mean_squared_error']\n",
    "    epochs = range(1, len(acc_values) + 1)\n",
    "\n",
    "    plt.plot(epochs, acc_values, 'bo', label='Training acc')\n",
    "    plt.plot(epochs, val_acc_values, 'b', label='Test accuracy')\n",
    "    plt.title('Training and validation accuracy')\n",
    "    plt.xlabel('Epochs')\n",
    "    plt.ylabel('Accuracy')\n",
    "    plt.legend()\n",
    "\n",
    "    plt.show()"
   ]
  },
  {
   "cell_type": "code",
   "execution_count": 9,
   "id": "d66f04b9",
   "metadata": {
    "execution": {
     "iopub.execute_input": "2021-12-17T22:46:34.208507Z",
     "iopub.status.busy": "2021-12-17T22:46:34.207721Z",
     "iopub.status.idle": "2021-12-17T22:46:45.207926Z",
     "shell.execute_reply": "2021-12-17T22:46:45.207433Z",
     "shell.execute_reply.started": "2021-12-17T22:44:58.540862Z"
    },
    "papermill": {
     "duration": 11.033466,
     "end_time": "2021-12-17T22:46:45.208106",
     "exception": false,
     "start_time": "2021-12-17T22:46:34.174640",
     "status": "completed"
    },
    "tags": []
   },
   "outputs": [],
   "source": [
    "#Final Neural Network \n",
    "\n",
    "# Define save checkpoint callback (only save if new best validation results)\n",
    "checkpoint_cb = keras.callbacks.ModelCheckpoint(\n",
    "    'model_checkpoint.h5', save_best_only=True)\n",
    "\n",
    "# Define early stopping callback\n",
    "# Stop when no validation improvement for 25 epochs\n",
    "# Restore weights to best validation accuracy\n",
    "early_stopping_cb = keras.callbacks.EarlyStopping(\n",
    "    patience=25, restore_best_weights=True)\n",
    "\n",
    "number_features = X_train_sc.shape[1]\n",
    "model = make_net(\n",
    "    number_features,\n",
    "    hidden_layers=4,\n",
    "    hidden_layer_neurones=16,\n",
    "    dropout=0.2)\n",
    "\n",
    "\n"
   ]
  },
  {
   "cell_type": "code",
   "execution_count": 10,
   "id": "59b286f1",
   "metadata": {},
   "outputs": [],
   "source": [
    "# define the learning rate change \n",
    "def exp_decay(epoch):\n",
    "    lrate = learning_rate * np.exp(-decay_rate*epoch)\n",
    "    return lrate"
   ]
  },
  {
   "cell_type": "code",
   "execution_count": 11,
   "id": "47064697",
   "metadata": {},
   "outputs": [],
   "source": [
    "epochs = 50\n",
    "learning_rate = 0.1 # initial learning rate\n",
    "decay_rate = 0.1\n",
    "momentum = 0.8"
   ]
  },
  {
   "cell_type": "code",
   "execution_count": 12,
   "id": "66d4b295",
   "metadata": {},
   "outputs": [],
   "source": [
    "from keras.callbacks import History\n",
    "from keras.callbacks import LearningRateScheduler\n",
    "# learning schedule callback\n",
    "loss_history = History()\n",
    "lr_rate = LearningRateScheduler(exp_decay)\n",
    "callbacks_list = [loss_history, lr_rate]"
   ]
  },
  {
   "cell_type": "code",
   "execution_count": 13,
   "id": "acd21c9c",
   "metadata": {},
   "outputs": [],
   "source": [
    "# history = model.fit(X_train_sc,\n",
    "#                     y_train,\n",
    "#                     epochs=50,\n",
    "#                     batch_size=32,\n",
    "#                     validation_data=(X_test_sc, y_test),\n",
    "#                     verbose=0, \n",
    "#                     callbacks=[checkpoint_cb, early_stopping_cb])"
   ]
  },
  {
   "cell_type": "code",
   "execution_count": 14,
   "id": "8622db6e",
   "metadata": {},
   "outputs": [],
   "source": [
    "history = model.fit(X_train_sc,\n",
    "                    y_train,\n",
    "                    epochs=100,\n",
    "                    batch_size=64,\n",
    "                    validation_data=(X_test_sc, y_test),\n",
    "                    verbose=0, \n",
    "                    callbacks=callbacks_list,)"
   ]
  },
  {
   "cell_type": "code",
   "execution_count": 15,
   "id": "b34d9fe9",
   "metadata": {
    "execution": {
     "iopub.execute_input": "2021-12-17T22:46:45.263555Z",
     "iopub.status.busy": "2021-12-17T22:46:45.262755Z",
     "iopub.status.idle": "2021-12-17T22:46:45.418280Z",
     "shell.execute_reply": "2021-12-17T22:46:45.417641Z",
     "shell.execute_reply.started": "2021-12-17T22:45:16.896077Z"
    },
    "papermill": {
     "duration": 0.185198,
     "end_time": "2021-12-17T22:46:45.418447",
     "exception": false,
     "start_time": "2021-12-17T22:46:45.233249",
     "status": "completed"
    },
    "tags": []
   },
   "outputs": [
    {
     "name": "stdout",
     "output_type": "stream",
     "text": [
      "train MSE 0.7826490320542547\n",
      "train EVS 0.8493020011706218\n",
      "test MSE 2.728825223442793\n",
      "test EVS 0.5291685904932817\n"
     ]
    }
   ],
   "source": [
    "# Show acuracy\n",
    "calculate_accuracy(model, X_train_sc, X_test_sc, y_train, y_test)"
   ]
  },
  {
   "cell_type": "code",
   "execution_count": 16,
   "id": "ea8e44dd",
   "metadata": {
    "execution": {
     "iopub.execute_input": "2021-12-17T22:46:45.475478Z",
     "iopub.status.busy": "2021-12-17T22:46:45.474676Z",
     "iopub.status.idle": "2021-12-17T22:46:45.669904Z",
     "shell.execute_reply": "2021-12-17T22:46:45.670363Z",
     "shell.execute_reply.started": "2021-12-17T22:45:22.639895Z"
    },
    "papermill": {
     "duration": 0.226565,
     "end_time": "2021-12-17T22:46:45.670526",
     "exception": false,
     "start_time": "2021-12-17T22:46:45.443961",
     "status": "completed"
    },
    "scrolled": true,
    "tags": []
   },
   "outputs": [
    {
     "data": {
      "image/png": "[encoded data removed]",
      "text/plain": [
       "<Figure size 640x480 with 1 Axes>"
      ]
     },
     "metadata": {},
     "output_type": "display_data"
    }
   ],
   "source": [
    "# Plot accuracy\n",
    "plot_training(history.history)"
   ]
  },
  {
   "cell_type": "code",
   "execution_count": 17,
   "id": "0b03d558",
   "metadata": {},
   "outputs": [
    {
     "data": {
      "image/png": "[encoded data removed]",
      "text/plain": [
       "<Figure size 1000x600 with 1 Axes>"
      ]
     },
     "metadata": {},
     "output_type": "display_data"
    },
    {
     "data": {
      "image/png": "[encoded data removed]",
      "text/plain": [
       "<Figure size 1000x600 with 1 Axes>"
      ]
     },
     "metadata": {},
     "output_type": "display_data"
    }
   ],
   "source": [
    "# Plot the loss function\n",
    "fig, ax = plt.subplots(1, 1, figsize=(10,6))\n",
    "ax.plot(np.sqrt(history.history['loss']), 'r', label='train')\n",
    "ax.plot(np.sqrt(history.history['val_loss']), 'b' ,label='val')\n",
    "ax.set_xlabel(r'Epoch', fontsize=20)\n",
    "ax.set_ylabel(r'Loss', fontsize=20)\n",
    "ax.legend()\n",
    "ax.tick_params(labelsize=20)\n",
    "\n",
    "# Plot the accuracy\n",
    "fig, ax = plt.subplots(1, 1, figsize=(10,6))\n",
    "ax.plot(np.sqrt(history.history['mean_squared_error']), 'r', label='train')\n",
    "ax.plot(np.sqrt(history.history['val_mean_squared_error']), 'b' ,label='val')\n",
    "ax.set_xlabel(r'Epoch', fontsize=20)\n",
    "ax.set_ylabel(r'MSE', fontsize=20)\n",
    "ax.legend()\n",
    "ax.tick_params(labelsize=20)"
   ]
  },
  {
   "cell_type": "code",
   "execution_count": 18,
   "id": "a59bb139",
   "metadata": {},
   "outputs": [],
   "source": [
    "RandomizedSearch = model"
   ]
  },
  {
   "cell_type": "code",
   "execution_count": 19,
   "id": "0cb24fcd",
   "metadata": {},
   "outputs": [
    {
     "data": {
      "text/plain": [
       "0.7826490320542547"
      ]
     },
     "execution_count": 19,
     "metadata": {},
     "output_type": "execute_result"
    }
   ],
   "source": [
    "from sklearn.metrics import mean_squared_error\n",
    "mean_squared_error(y_train.values, RandomizedSearch.predict(X_train_sc))"
   ]
  },
  {
   "cell_type": "code",
   "execution_count": 20,
   "id": "69ef519f",
   "metadata": {},
   "outputs": [
    {
     "data": {
      "text/plain": [
       "0.8493020011706218"
      ]
     },
     "execution_count": 20,
     "metadata": {},
     "output_type": "execute_result"
    }
   ],
   "source": [
    "from sklearn.metrics import explained_variance_score\n",
    "explained_variance_score(y_train.values, RandomizedSearch.predict(X_train_sc))"
   ]
  },
  {
   "cell_type": "code",
   "execution_count": 21,
   "id": "5d8da826",
   "metadata": {},
   "outputs": [
    {
     "data": {
      "text/plain": [
       "2.728825223442793"
      ]
     },
     "execution_count": 21,
     "metadata": {},
     "output_type": "execute_result"
    }
   ],
   "source": [
    "from sklearn.metrics import mean_squared_error\n",
    "mean_squared_error(y_validation.values, RandomizedSearch.predict(X_test_sc))"
   ]
  },
  {
   "cell_type": "code",
   "execution_count": 22,
   "id": "ae169cfe",
   "metadata": {
    "scrolled": true
   },
   "outputs": [
    {
     "data": {
      "text/plain": [
       "0.5291685904932817"
      ]
     },
     "execution_count": 22,
     "metadata": {},
     "output_type": "execute_result"
    }
   ],
   "source": [
    "from sklearn.metrics import explained_variance_score\n",
    "explained_variance_score(y_validation.values, RandomizedSearch.predict(X_test_sc))"
   ]
  },
  {
   "cell_type": "code",
   "execution_count": 23,
   "id": "0a47bac4",
   "metadata": {
    "execution": {
     "iopub.execute_input": "2021-12-17T22:46:45.908270Z",
     "iopub.status.busy": "2021-12-17T22:46:45.907401Z",
     "iopub.status.idle": "2021-12-17T22:46:45.912696Z",
     "shell.execute_reply": "2021-12-17T22:46:45.913188Z",
     "shell.execute_reply.started": "2021-12-17T22:30:40.614724Z"
    },
    "papermill": {
     "duration": 0.038703,
     "end_time": "2021-12-17T22:46:45.913339",
     "exception": false,
     "start_time": "2021-12-17T22:46:45.874636",
     "status": "completed"
    },
    "tags": []
   },
   "outputs": [],
   "source": [
    "# # Format Output data & Submit it\n",
    "\n",
    "# test_data['Survived'] = [ round(x) for x in test_data['Survived']] \n",
    "# solution = test_data[['PassengerId', 'Survived']]\n",
    "# solution.to_csv(\"Neural_Network_Solution.csv\", index=False)"
   ]
  },
  {
   "cell_type": "code",
   "execution_count": null,
   "id": "23599ecd",
   "metadata": {},
   "outputs": [],
   "source": []
  }
 ],
 "metadata": {
  "kernelspec": {
   "display_name": "Python 3 (ipykernel)",
   "language": "python",
   "name": "python3"
  },
  "language_info": {
   "codemirror_mode": {
    "name": "ipython",
    "version": 3
   },
   "file_extension": ".py",
   "mimetype": "text/x-python",
   "name": "python",
   "nbconvert_exporter": "python",
   "pygments_lexer": "ipython3",
   "version": "3.9.7"
  },
  "papermill": {
   "default_parameters": {},
   "duration": 69.369506,
   "end_time": "2021-12-17T22:46:49.104881",
   "environment_variables": {},
   "exception": null,
   "input_path": "__notebook__.ipynb",
   "output_path": "__notebook__.ipynb",
   "parameters": {},
   "start_time": "2021-12-17T22:45:39.735375",
   "version": "2.3.3"
  }
 },
 "nbformat": 4,
 "nbformat_minor": 5
}
